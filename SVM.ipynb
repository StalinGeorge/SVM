{
  "nbformat": 4,
  "nbformat_minor": 0,
  "metadata": {
    "colab": {
      "provenance": []
    },
    "kernelspec": {
      "name": "python3",
      "display_name": "Python 3"
    },
    "language_info": {
      "name": "python"
    }
  },
  "cells": [
    {
      "cell_type": "code",
      "execution_count": 1,
      "metadata": {
        "id": "8UhkVLWtYMQo"
      },
      "outputs": [],
      "source": [
        "import numpy as np \n",
        "import pandas as pd\n",
        "import matplotlib.pyplot as plt    \n",
        "import nltk   \n",
        "from nltk.corpus import stopwords   \n",
        "import re  \n",
        "import seaborn as sns  \n",
        "from sklearn.model_selection import train_test_split\n",
        "from sklearn.feature_extraction.text import TfidfVectorizer   \n",
        "from sklearn.svm import SVC  \n",
        "from sklearn.metrics import accuracy_score\n",
        "from sklearn.metrics import ConfusionMatrixDisplay,classification_report\n",
        "from sklearn.preprocessing import LabelBinarizer"
      ]
    },
    {
      "cell_type": "code",
      "source": [
        "nltk.download('stopwords')"
      ],
      "metadata": {
        "colab": {
          "base_uri": "https://localhost:8080/"
        },
        "id": "N0k8iaSsYPK6",
        "outputId": "ff8eb77c-f75d-4c2c-de23-7468d7bcb041"
      },
      "execution_count": 2,
      "outputs": [
        {
          "output_type": "stream",
          "name": "stderr",
          "text": [
            "[nltk_data] Downloading package stopwords to /root/nltk_data...\n",
            "[nltk_data]   Unzipping corpora/stopwords.zip.\n"
          ]
        },
        {
          "output_type": "execute_result",
          "data": {
            "text/plain": [
              "True"
            ]
          },
          "metadata": {},
          "execution_count": 2
        }
      ]
    },
    {
      "cell_type": "code",
      "source": [
        "cov_data = pd.read_csv(r'/content/COVIDSenti-A.csv')\n",
        "cov_data"
      ],
      "metadata": {
        "colab": {
          "base_uri": "https://localhost:8080/",
          "height": 424
        },
        "id": "L4vtTL1lYS0k",
        "outputId": "c7a81091-fccb-4f56-f548-78d6c37808b8"
      },
      "execution_count": 4,
      "outputs": [
        {
          "output_type": "execute_result",
          "data": {
            "text/plain": [
              "                                                   tweet label\n",
              "0      Coronavirus | Human Coronavirus Types | CDC ht...   neu\n",
              "1      @shehryar_taseer That‚Äôs üíØ true , \\nCorona...   neu\n",
              "2      TLDR: Not SARS, possibly new coronavirus. Diff...   neg\n",
              "3      Disease outbreak news from the WHO: Middle Eas...   neu\n",
              "4      China - Media: WSJ says sources tell them myst...   neu\n",
              "...                                                  ...   ...\n",
              "29995  CDC: Re-test confirms Westerdam cruise ship pa...   neu\n",
              "29996  Two doctors die of coronavirus within 24 hours...   neu\n",
              "29997  BEIJING - The lockdown of Guo Jing's neighbour...   neu\n",
              "29998  #CoronavirusOutbreak in #Balochistan !!\\n#CPEC...   neu\n",
              "29999  The Australian dollar has hit a fresh decade l...   neu\n",
              "\n",
              "[30000 rows x 2 columns]"
            ],
            "text/html": [
              "\n",
              "  <div id=\"df-79ed2151-72b8-450e-b3c6-fc6ee1b10eb8\">\n",
              "    <div class=\"colab-df-container\">\n",
              "      <div>\n",
              "<style scoped>\n",
              "    .dataframe tbody tr th:only-of-type {\n",
              "        vertical-align: middle;\n",
              "    }\n",
              "\n",
              "    .dataframe tbody tr th {\n",
              "        vertical-align: top;\n",
              "    }\n",
              "\n",
              "    .dataframe thead th {\n",
              "        text-align: right;\n",
              "    }\n",
              "</style>\n",
              "<table border=\"1\" class=\"dataframe\">\n",
              "  <thead>\n",
              "    <tr style=\"text-align: right;\">\n",
              "      <th></th>\n",
              "      <th>tweet</th>\n",
              "      <th>label</th>\n",
              "    </tr>\n",
              "  </thead>\n",
              "  <tbody>\n",
              "    <tr>\n",
              "      <th>0</th>\n",
              "      <td>Coronavirus | Human Coronavirus Types | CDC ht...</td>\n",
              "      <td>neu</td>\n",
              "    </tr>\n",
              "    <tr>\n",
              "      <th>1</th>\n",
              "      <td>@shehryar_taseer That‚Äôs üíØ true , \\nCorona...</td>\n",
              "      <td>neu</td>\n",
              "    </tr>\n",
              "    <tr>\n",
              "      <th>2</th>\n",
              "      <td>TLDR: Not SARS, possibly new coronavirus. Diff...</td>\n",
              "      <td>neg</td>\n",
              "    </tr>\n",
              "    <tr>\n",
              "      <th>3</th>\n",
              "      <td>Disease outbreak news from the WHO: Middle Eas...</td>\n",
              "      <td>neu</td>\n",
              "    </tr>\n",
              "    <tr>\n",
              "      <th>4</th>\n",
              "      <td>China - Media: WSJ says sources tell them myst...</td>\n",
              "      <td>neu</td>\n",
              "    </tr>\n",
              "    <tr>\n",
              "      <th>...</th>\n",
              "      <td>...</td>\n",
              "      <td>...</td>\n",
              "    </tr>\n",
              "    <tr>\n",
              "      <th>29995</th>\n",
              "      <td>CDC: Re-test confirms Westerdam cruise ship pa...</td>\n",
              "      <td>neu</td>\n",
              "    </tr>\n",
              "    <tr>\n",
              "      <th>29996</th>\n",
              "      <td>Two doctors die of coronavirus within 24 hours...</td>\n",
              "      <td>neu</td>\n",
              "    </tr>\n",
              "    <tr>\n",
              "      <th>29997</th>\n",
              "      <td>BEIJING - The lockdown of Guo Jing's neighbour...</td>\n",
              "      <td>neu</td>\n",
              "    </tr>\n",
              "    <tr>\n",
              "      <th>29998</th>\n",
              "      <td>#CoronavirusOutbreak in #Balochistan !!\\n#CPEC...</td>\n",
              "      <td>neu</td>\n",
              "    </tr>\n",
              "    <tr>\n",
              "      <th>29999</th>\n",
              "      <td>The Australian dollar has hit a fresh decade l...</td>\n",
              "      <td>neu</td>\n",
              "    </tr>\n",
              "  </tbody>\n",
              "</table>\n",
              "<p>30000 rows × 2 columns</p>\n",
              "</div>\n",
              "      <button class=\"colab-df-convert\" onclick=\"convertToInteractive('df-79ed2151-72b8-450e-b3c6-fc6ee1b10eb8')\"\n",
              "              title=\"Convert this dataframe to an interactive table.\"\n",
              "              style=\"display:none;\">\n",
              "        \n",
              "  <svg xmlns=\"http://www.w3.org/2000/svg\" height=\"24px\"viewBox=\"0 0 24 24\"\n",
              "       width=\"24px\">\n",
              "    <path d=\"M0 0h24v24H0V0z\" fill=\"none\"/>\n",
              "    <path d=\"M18.56 5.44l.94 2.06.94-2.06 2.06-.94-2.06-.94-.94-2.06-.94 2.06-2.06.94zm-11 1L8.5 8.5l.94-2.06 2.06-.94-2.06-.94L8.5 2.5l-.94 2.06-2.06.94zm10 10l.94 2.06.94-2.06 2.06-.94-2.06-.94-.94-2.06-.94 2.06-2.06.94z\"/><path d=\"M17.41 7.96l-1.37-1.37c-.4-.4-.92-.59-1.43-.59-.52 0-1.04.2-1.43.59L10.3 9.45l-7.72 7.72c-.78.78-.78 2.05 0 2.83L4 21.41c.39.39.9.59 1.41.59.51 0 1.02-.2 1.41-.59l7.78-7.78 2.81-2.81c.8-.78.8-2.07 0-2.86zM5.41 20L4 18.59l7.72-7.72 1.47 1.35L5.41 20z\"/>\n",
              "  </svg>\n",
              "      </button>\n",
              "      \n",
              "  <style>\n",
              "    .colab-df-container {\n",
              "      display:flex;\n",
              "      flex-wrap:wrap;\n",
              "      gap: 12px;\n",
              "    }\n",
              "\n",
              "    .colab-df-convert {\n",
              "      background-color: #E8F0FE;\n",
              "      border: none;\n",
              "      border-radius: 50%;\n",
              "      cursor: pointer;\n",
              "      display: none;\n",
              "      fill: #1967D2;\n",
              "      height: 32px;\n",
              "      padding: 0 0 0 0;\n",
              "      width: 32px;\n",
              "    }\n",
              "\n",
              "    .colab-df-convert:hover {\n",
              "      background-color: #E2EBFA;\n",
              "      box-shadow: 0px 1px 2px rgba(60, 64, 67, 0.3), 0px 1px 3px 1px rgba(60, 64, 67, 0.15);\n",
              "      fill: #174EA6;\n",
              "    }\n",
              "\n",
              "    [theme=dark] .colab-df-convert {\n",
              "      background-color: #3B4455;\n",
              "      fill: #D2E3FC;\n",
              "    }\n",
              "\n",
              "    [theme=dark] .colab-df-convert:hover {\n",
              "      background-color: #434B5C;\n",
              "      box-shadow: 0px 1px 3px 1px rgba(0, 0, 0, 0.15);\n",
              "      filter: drop-shadow(0px 1px 2px rgba(0, 0, 0, 0.3));\n",
              "      fill: #FFFFFF;\n",
              "    }\n",
              "  </style>\n",
              "\n",
              "      <script>\n",
              "        const buttonEl =\n",
              "          document.querySelector('#df-79ed2151-72b8-450e-b3c6-fc6ee1b10eb8 button.colab-df-convert');\n",
              "        buttonEl.style.display =\n",
              "          google.colab.kernel.accessAllowed ? 'block' : 'none';\n",
              "\n",
              "        async function convertToInteractive(key) {\n",
              "          const element = document.querySelector('#df-79ed2151-72b8-450e-b3c6-fc6ee1b10eb8');\n",
              "          const dataTable =\n",
              "            await google.colab.kernel.invokeFunction('convertToInteractive',\n",
              "                                                     [key], {});\n",
              "          if (!dataTable) return;\n",
              "\n",
              "          const docLinkHtml = 'Like what you see? Visit the ' +\n",
              "            '<a target=\"_blank\" href=https://colab.research.google.com/notebooks/data_table.ipynb>data table notebook</a>'\n",
              "            + ' to learn more about interactive tables.';\n",
              "          element.innerHTML = '';\n",
              "          dataTable['output_type'] = 'display_data';\n",
              "          await google.colab.output.renderOutput(dataTable, element);\n",
              "          const docLink = document.createElement('div');\n",
              "          docLink.innerHTML = docLinkHtml;\n",
              "          element.appendChild(docLink);\n",
              "        }\n",
              "      </script>\n",
              "    </div>\n",
              "  </div>\n",
              "  "
            ]
          },
          "metadata": {},
          "execution_count": 4
        }
      ]
    },
    {
      "cell_type": "code",
      "source": [
        "cov_data.isnull().sum()"
      ],
      "metadata": {
        "colab": {
          "base_uri": "https://localhost:8080/"
        },
        "id": "uzkoliVBYol3",
        "outputId": "0e50e729-1122-442b-98bb-4d787bf9cca5"
      },
      "execution_count": 8,
      "outputs": [
        {
          "output_type": "execute_result",
          "data": {
            "text/plain": [
              "tweet    0\n",
              "label    0\n",
              "dtype: int64"
            ]
          },
          "metadata": {},
          "execution_count": 8
        }
      ]
    },
    {
      "cell_type": "code",
      "source": [
        "cov_data['label'].value_counts()"
      ],
      "metadata": {
        "colab": {
          "base_uri": "https://localhost:8080/"
        },
        "id": "yUmzxNVAYv9e",
        "outputId": "3c818eb6-eaad-45c6-d74d-c7494ac0199d"
      },
      "execution_count": 9,
      "outputs": [
        {
          "output_type": "execute_result",
          "data": {
            "text/plain": [
              "neu    22949\n",
              "neg     5083\n",
              "pos     1968\n",
              "Name: label, dtype: int64"
            ]
          },
          "metadata": {},
          "execution_count": 9
        }
      ]
    },
    {
      "cell_type": "code",
      "source": [
        "stop_words = set(stopwords.words('english'))"
      ],
      "metadata": {
        "id": "tNj3KpZYYywK"
      },
      "execution_count": 7,
      "outputs": []
    },
    {
      "cell_type": "code",
      "source": [
        "def clean_tweet(tweet):\n",
        "  if type(tweet) == float:\n",
        "    return \"\"\n",
        "  temp = tweet.lower() # Words in lower case\n",
        "  temp = re.sub(\"'\",\"\",temp) # Removing contractions in English\n",
        "  temp = re.sub(\"@[A-Za-z0-9_]+\",\"\", temp) #Removing mentions     \n",
        "  temp = re.sub(\"#[A-Za-z0-9_]+\",\"\", temp) #Removing hashtags\n",
        "  temp = re.sub(r'http\\S+', '', temp) #Removing links\n",
        "  temp = re.sub('\\[().*!?\\]', ' ', temp) # Removing punctuations\n",
        "  temp = re.sub(\"[^a-z0-9]\", \" \", temp)\n",
        "  temp = temp.split() # Splitting the sentence into individual words\n",
        "  temp = [w for w in temp if not w in stop_words]\n",
        "  temp = \" \".join(word for word in temp)\n",
        "  return temp"
      ],
      "metadata": {
        "id": "yp0MsxswY1-T"
      },
      "execution_count": 10,
      "outputs": []
    },
    {
      "cell_type": "code",
      "source": [
        "cov_data['tweet'] = cov_data['tweet'].apply(clean_tweet)\n",
        "cov_data"
      ],
      "metadata": {
        "colab": {
          "base_uri": "https://localhost:8080/",
          "height": 424
        },
        "id": "a8cT9XJcZAYg",
        "outputId": "789cdb5d-4e83-4fb0-e3be-e634cab49674"
      },
      "execution_count": 12,
      "outputs": [
        {
          "output_type": "execute_result",
          "data": {
            "text/plain": [
              "                                                   tweet label\n",
              "0                coronavirus human coronavirus types cdc   neu\n",
              "1      true corona virus swine flue bird flu december...   neu\n",
              "2      tldr sars possibly new coronavirus difficult c...   neg\n",
              "3      disease outbreak news middle east respiratory ...   neu\n",
              "4      china media wsj says sources tell mystery pneu...   neu\n",
              "...                                                  ...   ...\n",
              "29995  cdc test confirms westerdam cruise ship passen...   neu\n",
              "29996  two doctors die coronavirus within 24 hours ch...   neu\n",
              "29997  beijing lockdown guo jings neighbourhood wuhan...   neu\n",
              "29998                                       route spread   neu\n",
              "29999  australian dollar hit fresh decade low investo...   neu\n",
              "\n",
              "[30000 rows x 2 columns]"
            ],
            "text/html": [
              "\n",
              "  <div id=\"df-fd9e51e5-8736-4b9a-88b4-aab7cef31849\">\n",
              "    <div class=\"colab-df-container\">\n",
              "      <div>\n",
              "<style scoped>\n",
              "    .dataframe tbody tr th:only-of-type {\n",
              "        vertical-align: middle;\n",
              "    }\n",
              "\n",
              "    .dataframe tbody tr th {\n",
              "        vertical-align: top;\n",
              "    }\n",
              "\n",
              "    .dataframe thead th {\n",
              "        text-align: right;\n",
              "    }\n",
              "</style>\n",
              "<table border=\"1\" class=\"dataframe\">\n",
              "  <thead>\n",
              "    <tr style=\"text-align: right;\">\n",
              "      <th></th>\n",
              "      <th>tweet</th>\n",
              "      <th>label</th>\n",
              "    </tr>\n",
              "  </thead>\n",
              "  <tbody>\n",
              "    <tr>\n",
              "      <th>0</th>\n",
              "      <td>coronavirus human coronavirus types cdc</td>\n",
              "      <td>neu</td>\n",
              "    </tr>\n",
              "    <tr>\n",
              "      <th>1</th>\n",
              "      <td>true corona virus swine flue bird flu december...</td>\n",
              "      <td>neu</td>\n",
              "    </tr>\n",
              "    <tr>\n",
              "      <th>2</th>\n",
              "      <td>tldr sars possibly new coronavirus difficult c...</td>\n",
              "      <td>neg</td>\n",
              "    </tr>\n",
              "    <tr>\n",
              "      <th>3</th>\n",
              "      <td>disease outbreak news middle east respiratory ...</td>\n",
              "      <td>neu</td>\n",
              "    </tr>\n",
              "    <tr>\n",
              "      <th>4</th>\n",
              "      <td>china media wsj says sources tell mystery pneu...</td>\n",
              "      <td>neu</td>\n",
              "    </tr>\n",
              "    <tr>\n",
              "      <th>...</th>\n",
              "      <td>...</td>\n",
              "      <td>...</td>\n",
              "    </tr>\n",
              "    <tr>\n",
              "      <th>29995</th>\n",
              "      <td>cdc test confirms westerdam cruise ship passen...</td>\n",
              "      <td>neu</td>\n",
              "    </tr>\n",
              "    <tr>\n",
              "      <th>29996</th>\n",
              "      <td>two doctors die coronavirus within 24 hours ch...</td>\n",
              "      <td>neu</td>\n",
              "    </tr>\n",
              "    <tr>\n",
              "      <th>29997</th>\n",
              "      <td>beijing lockdown guo jings neighbourhood wuhan...</td>\n",
              "      <td>neu</td>\n",
              "    </tr>\n",
              "    <tr>\n",
              "      <th>29998</th>\n",
              "      <td>route spread</td>\n",
              "      <td>neu</td>\n",
              "    </tr>\n",
              "    <tr>\n",
              "      <th>29999</th>\n",
              "      <td>australian dollar hit fresh decade low investo...</td>\n",
              "      <td>neu</td>\n",
              "    </tr>\n",
              "  </tbody>\n",
              "</table>\n",
              "<p>30000 rows × 2 columns</p>\n",
              "</div>\n",
              "      <button class=\"colab-df-convert\" onclick=\"convertToInteractive('df-fd9e51e5-8736-4b9a-88b4-aab7cef31849')\"\n",
              "              title=\"Convert this dataframe to an interactive table.\"\n",
              "              style=\"display:none;\">\n",
              "        \n",
              "  <svg xmlns=\"http://www.w3.org/2000/svg\" height=\"24px\"viewBox=\"0 0 24 24\"\n",
              "       width=\"24px\">\n",
              "    <path d=\"M0 0h24v24H0V0z\" fill=\"none\"/>\n",
              "    <path d=\"M18.56 5.44l.94 2.06.94-2.06 2.06-.94-2.06-.94-.94-2.06-.94 2.06-2.06.94zm-11 1L8.5 8.5l.94-2.06 2.06-.94-2.06-.94L8.5 2.5l-.94 2.06-2.06.94zm10 10l.94 2.06.94-2.06 2.06-.94-2.06-.94-.94-2.06-.94 2.06-2.06.94z\"/><path d=\"M17.41 7.96l-1.37-1.37c-.4-.4-.92-.59-1.43-.59-.52 0-1.04.2-1.43.59L10.3 9.45l-7.72 7.72c-.78.78-.78 2.05 0 2.83L4 21.41c.39.39.9.59 1.41.59.51 0 1.02-.2 1.41-.59l7.78-7.78 2.81-2.81c.8-.78.8-2.07 0-2.86zM5.41 20L4 18.59l7.72-7.72 1.47 1.35L5.41 20z\"/>\n",
              "  </svg>\n",
              "      </button>\n",
              "      \n",
              "  <style>\n",
              "    .colab-df-container {\n",
              "      display:flex;\n",
              "      flex-wrap:wrap;\n",
              "      gap: 12px;\n",
              "    }\n",
              "\n",
              "    .colab-df-convert {\n",
              "      background-color: #E8F0FE;\n",
              "      border: none;\n",
              "      border-radius: 50%;\n",
              "      cursor: pointer;\n",
              "      display: none;\n",
              "      fill: #1967D2;\n",
              "      height: 32px;\n",
              "      padding: 0 0 0 0;\n",
              "      width: 32px;\n",
              "    }\n",
              "\n",
              "    .colab-df-convert:hover {\n",
              "      background-color: #E2EBFA;\n",
              "      box-shadow: 0px 1px 2px rgba(60, 64, 67, 0.3), 0px 1px 3px 1px rgba(60, 64, 67, 0.15);\n",
              "      fill: #174EA6;\n",
              "    }\n",
              "\n",
              "    [theme=dark] .colab-df-convert {\n",
              "      background-color: #3B4455;\n",
              "      fill: #D2E3FC;\n",
              "    }\n",
              "\n",
              "    [theme=dark] .colab-df-convert:hover {\n",
              "      background-color: #434B5C;\n",
              "      box-shadow: 0px 1px 3px 1px rgba(0, 0, 0, 0.15);\n",
              "      filter: drop-shadow(0px 1px 2px rgba(0, 0, 0, 0.3));\n",
              "      fill: #FFFFFF;\n",
              "    }\n",
              "  </style>\n",
              "\n",
              "      <script>\n",
              "        const buttonEl =\n",
              "          document.querySelector('#df-fd9e51e5-8736-4b9a-88b4-aab7cef31849 button.colab-df-convert');\n",
              "        buttonEl.style.display =\n",
              "          google.colab.kernel.accessAllowed ? 'block' : 'none';\n",
              "\n",
              "        async function convertToInteractive(key) {\n",
              "          const element = document.querySelector('#df-fd9e51e5-8736-4b9a-88b4-aab7cef31849');\n",
              "          const dataTable =\n",
              "            await google.colab.kernel.invokeFunction('convertToInteractive',\n",
              "                                                     [key], {});\n",
              "          if (!dataTable) return;\n",
              "\n",
              "          const docLinkHtml = 'Like what you see? Visit the ' +\n",
              "            '<a target=\"_blank\" href=https://colab.research.google.com/notebooks/data_table.ipynb>data table notebook</a>'\n",
              "            + ' to learn more about interactive tables.';\n",
              "          element.innerHTML = '';\n",
              "          dataTable['output_type'] = 'display_data';\n",
              "          await google.colab.output.renderOutput(dataTable, element);\n",
              "          const docLink = document.createElement('div');\n",
              "          docLink.innerHTML = docLinkHtml;\n",
              "          element.appendChild(docLink);\n",
              "        }\n",
              "      </script>\n",
              "    </div>\n",
              "  </div>\n",
              "  "
            ]
          },
          "metadata": {},
          "execution_count": 12
        }
      ]
    },
    {
      "cell_type": "code",
      "source": [
        "sns.countplot(x=\"label\", data=cov_data)\n",
        "plt.show()"
      ],
      "metadata": {
        "colab": {
          "base_uri": "https://localhost:8080/",
          "height": 279
        },
        "id": "JaALf2w3ZQ9P",
        "outputId": "cdd83d9b-cb73-4d0e-be31-8a24562c94e7"
      },
      "execution_count": 13,
      "outputs": [
        {
          "output_type": "display_data",
          "data": {
            "text/plain": [
              "<Figure size 432x288 with 1 Axes>"
            ],
            "image/png": "[encoded data removed]"
          },
          "metadata": {
            "needs_background": "light"
          }
        }
      ]
    },
    {
      "cell_type": "code",
      "source": [
        "X = cov_data['tweet']\n",
        "y = cov_data['label']"
      ],
      "metadata": {
        "id": "CJdpEL5ZZaIi"
      },
      "execution_count": 14,
      "outputs": []
    },
    {
      "cell_type": "code",
      "source": [
        "X_train, X_test, y_train, y_test = train_test_split(X, y,test_size = 0.3, random_state = 0)"
      ],
      "metadata": {
        "id": "1HaeMRfEZfgO"
      },
      "execution_count": 16,
      "outputs": []
    },
    {
      "cell_type": "code",
      "source": [
        "X_train.shape"
      ],
      "metadata": {
        "colab": {
          "base_uri": "https://localhost:8080/"
        },
        "id": "GECp6OZ5ZjjP",
        "outputId": "7996d44a-7df4-4ecf-9fa7-9da44e6cd306"
      },
      "execution_count": 17,
      "outputs": [
        {
          "output_type": "execute_result",
          "data": {
            "text/plain": [
              "(21000,)"
            ]
          },
          "metadata": {},
          "execution_count": 17
        }
      ]
    },
    {
      "cell_type": "code",
      "source": [
        "X_test.shape"
      ],
      "metadata": {
        "colab": {
          "base_uri": "https://localhost:8080/"
        },
        "id": "qcN7blmVZo4j",
        "outputId": "5e2faee4-f14e-4905-dd4e-f53e306d3bfc"
      },
      "execution_count": 18,
      "outputs": [
        {
          "output_type": "execute_result",
          "data": {
            "text/plain": [
              "(9000,)"
            ]
          },
          "metadata": {},
          "execution_count": 18
        }
      ]
    },
    {
      "cell_type": "code",
      "source": [
        "df_train = pd.DataFrame()\n",
        "df_train['tweet'] = X_train\n",
        "df_train['label'] = y_train\n",
        "df_train"
      ],
      "metadata": {
        "colab": {
          "base_uri": "https://localhost:8080/",
          "height": 424
        },
        "id": "BTCtyb1BZtfd",
        "outputId": "d6ded89c-b731-4fcd-9318-ee69270c8f8b"
      },
      "execution_count": 19,
      "outputs": [
        {
          "output_type": "execute_result",
          "data": {
            "text/plain": [
              "                                                   tweet label\n",
              "15925                        joining fight coronavirus v   neu\n",
              "10062  world snooker tour chiefs forced postpone 1mil...   neg\n",
              "19376         first ever china product lasting long time   neu\n",
              "6384   japanese media spread information also spread ...   neg\n",
              "15976       tesla warns coronavirus hit china deliveries   neu\n",
              "...                                                  ...   ...\n",
              "13123  watched contagion three times im pretty sure c...   neu\n",
              "19648  believe everything read social media serious i...   neg\n",
              "9845                             well defeat coronavirus   neu\n",
              "10799  south florida students told stay home possible...   neu\n",
              "2732   one 95 people comments ahahaha coronavirus aha...   neu\n",
              "\n",
              "[21000 rows x 2 columns]"
            ],
            "text/html": [
              "\n",
              "  <div id=\"df-71b308d1-72c5-4409-ab19-922275bf6bf4\">\n",
              "    <div class=\"colab-df-container\">\n",
              "      <div>\n",
              "<style scoped>\n",
              "    .dataframe tbody tr th:only-of-type {\n",
              "        vertical-align: middle;\n",
              "    }\n",
              "\n",
              "    .dataframe tbody tr th {\n",
              "        vertical-align: top;\n",
              "    }\n",
              "\n",
              "    .dataframe thead th {\n",
              "        text-align: right;\n",
              "    }\n",
              "</style>\n",
              "<table border=\"1\" class=\"dataframe\">\n",
              "  <thead>\n",
              "    <tr style=\"text-align: right;\">\n",
              "      <th></th>\n",
              "      <th>tweet</th>\n",
              "      <th>label</th>\n",
              "    </tr>\n",
              "  </thead>\n",
              "  <tbody>\n",
              "    <tr>\n",
              "      <th>15925</th>\n",
              "      <td>joining fight coronavirus v</td>\n",
              "      <td>neu</td>\n",
              "    </tr>\n",
              "    <tr>\n",
              "      <th>10062</th>\n",
              "      <td>world snooker tour chiefs forced postpone 1mil...</td>\n",
              "      <td>neg</td>\n",
              "    </tr>\n",
              "    <tr>\n",
              "      <th>19376</th>\n",
              "      <td>first ever china product lasting long time</td>\n",
              "      <td>neu</td>\n",
              "    </tr>\n",
              "    <tr>\n",
              "      <th>6384</th>\n",
              "      <td>japanese media spread information also spread ...</td>\n",
              "      <td>neg</td>\n",
              "    </tr>\n",
              "    <tr>\n",
              "      <th>15976</th>\n",
              "      <td>tesla warns coronavirus hit china deliveries</td>\n",
              "      <td>neu</td>\n",
              "    </tr>\n",
              "    <tr>\n",
              "      <th>...</th>\n",
              "      <td>...</td>\n",
              "      <td>...</td>\n",
              "    </tr>\n",
              "    <tr>\n",
              "      <th>13123</th>\n",
              "      <td>watched contagion three times im pretty sure c...</td>\n",
              "      <td>neu</td>\n",
              "    </tr>\n",
              "    <tr>\n",
              "      <th>19648</th>\n",
              "      <td>believe everything read social media serious i...</td>\n",
              "      <td>neg</td>\n",
              "    </tr>\n",
              "    <tr>\n",
              "      <th>9845</th>\n",
              "      <td>well defeat coronavirus</td>\n",
              "      <td>neu</td>\n",
              "    </tr>\n",
              "    <tr>\n",
              "      <th>10799</th>\n",
              "      <td>south florida students told stay home possible...</td>\n",
              "      <td>neu</td>\n",
              "    </tr>\n",
              "    <tr>\n",
              "      <th>2732</th>\n",
              "      <td>one 95 people comments ahahaha coronavirus aha...</td>\n",
              "      <td>neu</td>\n",
              "    </tr>\n",
              "  </tbody>\n",
              "</table>\n",
              "<p>21000 rows × 2 columns</p>\n",
              "</div>\n",
              "      <button class=\"colab-df-convert\" onclick=\"convertToInteractive('df-71b308d1-72c5-4409-ab19-922275bf6bf4')\"\n",
              "              title=\"Convert this dataframe to an interactive table.\"\n",
              "              style=\"display:none;\">\n",
              "        \n",
              "  <svg xmlns=\"http://www.w3.org/2000/svg\" height=\"24px\"viewBox=\"0 0 24 24\"\n",
              "       width=\"24px\">\n",
              "    <path d=\"M0 0h24v24H0V0z\" fill=\"none\"/>\n",
              "    <path d=\"M18.56 5.44l.94 2.06.94-2.06 2.06-.94-2.06-.94-.94-2.06-.94 2.06-2.06.94zm-11 1L8.5 8.5l.94-2.06 2.06-.94-2.06-.94L8.5 2.5l-.94 2.06-2.06.94zm10 10l.94 2.06.94-2.06 2.06-.94-2.06-.94-.94-2.06-.94 2.06-2.06.94z\"/><path d=\"M17.41 7.96l-1.37-1.37c-.4-.4-.92-.59-1.43-.59-.52 0-1.04.2-1.43.59L10.3 9.45l-7.72 7.72c-.78.78-.78 2.05 0 2.83L4 21.41c.39.39.9.59 1.41.59.51 0 1.02-.2 1.41-.59l7.78-7.78 2.81-2.81c.8-.78.8-2.07 0-2.86zM5.41 20L4 18.59l7.72-7.72 1.47 1.35L5.41 20z\"/>\n",
              "  </svg>\n",
              "      </button>\n",
              "      \n",
              "  <style>\n",
              "    .colab-df-container {\n",
              "      display:flex;\n",
              "      flex-wrap:wrap;\n",
              "      gap: 12px;\n",
              "    }\n",
              "\n",
              "    .colab-df-convert {\n",
              "      background-color: #E8F0FE;\n",
              "      border: none;\n",
              "      border-radius: 50%;\n",
              "      cursor: pointer;\n",
              "      display: none;\n",
              "      fill: #1967D2;\n",
              "      height: 32px;\n",
              "      padding: 0 0 0 0;\n",
              "      width: 32px;\n",
              "    }\n",
              "\n",
              "    .colab-df-convert:hover {\n",
              "      background-color: #E2EBFA;\n",
              "      box-shadow: 0px 1px 2px rgba(60, 64, 67, 0.3), 0px 1px 3px 1px rgba(60, 64, 67, 0.15);\n",
              "      fill: #174EA6;\n",
              "    }\n",
              "\n",
              "    [theme=dark] .colab-df-convert {\n",
              "      background-color: #3B4455;\n",
              "      fill: #D2E3FC;\n",
              "    }\n",
              "\n",
              "    [theme=dark] .colab-df-convert:hover {\n",
              "      background-color: #434B5C;\n",
              "      box-shadow: 0px 1px 3px 1px rgba(0, 0, 0, 0.15);\n",
              "      filter: drop-shadow(0px 1px 2px rgba(0, 0, 0, 0.3));\n",
              "      fill: #FFFFFF;\n",
              "    }\n",
              "  </style>\n",
              "\n",
              "      <script>\n",
              "        const buttonEl =\n",
              "          document.querySelector('#df-71b308d1-72c5-4409-ab19-922275bf6bf4 button.colab-df-convert');\n",
              "        buttonEl.style.display =\n",
              "          google.colab.kernel.accessAllowed ? 'block' : 'none';\n",
              "\n",
              "        async function convertToInteractive(key) {\n",
              "          const element = document.querySelector('#df-71b308d1-72c5-4409-ab19-922275bf6bf4');\n",
              "          const dataTable =\n",
              "            await google.colab.kernel.invokeFunction('convertToInteractive',\n",
              "                                                     [key], {});\n",
              "          if (!dataTable) return;\n",
              "\n",
              "          const docLinkHtml = 'Like what you see? Visit the ' +\n",
              "            '<a target=\"_blank\" href=https://colab.research.google.com/notebooks/data_table.ipynb>data table notebook</a>'\n",
              "            + ' to learn more about interactive tables.';\n",
              "          element.innerHTML = '';\n",
              "          dataTable['output_type'] = 'display_data';\n",
              "          await google.colab.output.renderOutput(dataTable, element);\n",
              "          const docLink = document.createElement('div');\n",
              "          docLink.innerHTML = docLinkHtml;\n",
              "          element.appendChild(docLink);\n",
              "        }\n",
              "      </script>\n",
              "    </div>\n",
              "  </div>\n",
              "  "
            ]
          },
          "metadata": {},
          "execution_count": 19
        }
      ]
    },
    {
      "cell_type": "code",
      "source": [
        "df_test = pd.DataFrame()\n",
        "df_test['tweet'] = X_test\n",
        "df_test['label'] = y_test\n",
        "df_test"
      ],
      "metadata": {
        "colab": {
          "base_uri": "https://localhost:8080/",
          "height": 424
        },
        "id": "21JhPRleZx_9",
        "outputId": "d48563e5-36f1-4c4b-c535-7f41dd92730c"
      },
      "execution_count": 20,
      "outputs": [
        {
          "output_type": "execute_result",
          "data": {
            "text/plain": [
              "                                                   tweet label\n",
              "8225   duterte like welcome chinese especially corona...   neu\n",
              "10794  information stating infected novel coronavirus...   neu\n",
              "9163                     coronavirus update pandemic via   neu\n",
              "26591  3000 healthcare personnel china infected coron...   pos\n",
              "6631   brent recoups china virus angst fed speak play...   neu\n",
              "...                                                  ...   ...\n",
              "21914  united panic bought striker telling come train...   neu\n",
              "17453                                                      neu\n",
              "20344  nzd usd technical bias bearish dow jones brush...   neu\n",
              "1878   sounds like something catch drinking beers spr...   neu\n",
              "6465   update beijing reported 11 new cases pneumonia...   neu\n",
              "\n",
              "[9000 rows x 2 columns]"
            ],
            "text/html": [
              "\n",
              "  <div id=\"df-48ac57c7-9137-4b9a-8fd3-33a03d30c21d\">\n",
              "    <div class=\"colab-df-container\">\n",
              "      <div>\n",
              "<style scoped>\n",
              "    .dataframe tbody tr th:only-of-type {\n",
              "        vertical-align: middle;\n",
              "    }\n",
              "\n",
              "    .dataframe tbody tr th {\n",
              "        vertical-align: top;\n",
              "    }\n",
              "\n",
              "    .dataframe thead th {\n",
              "        text-align: right;\n",
              "    }\n",
              "</style>\n",
              "<table border=\"1\" class=\"dataframe\">\n",
              "  <thead>\n",
              "    <tr style=\"text-align: right;\">\n",
              "      <th></th>\n",
              "      <th>tweet</th>\n",
              "      <th>label</th>\n",
              "    </tr>\n",
              "  </thead>\n",
              "  <tbody>\n",
              "    <tr>\n",
              "      <th>8225</th>\n",
              "      <td>duterte like welcome chinese especially corona...</td>\n",
              "      <td>neu</td>\n",
              "    </tr>\n",
              "    <tr>\n",
              "      <th>10794</th>\n",
              "      <td>information stating infected novel coronavirus...</td>\n",
              "      <td>neu</td>\n",
              "    </tr>\n",
              "    <tr>\n",
              "      <th>9163</th>\n",
              "      <td>coronavirus update pandemic via</td>\n",
              "      <td>neu</td>\n",
              "    </tr>\n",
              "    <tr>\n",
              "      <th>26591</th>\n",
              "      <td>3000 healthcare personnel china infected coron...</td>\n",
              "      <td>pos</td>\n",
              "    </tr>\n",
              "    <tr>\n",
              "      <th>6631</th>\n",
              "      <td>brent recoups china virus angst fed speak play...</td>\n",
              "      <td>neu</td>\n",
              "    </tr>\n",
              "    <tr>\n",
              "      <th>...</th>\n",
              "      <td>...</td>\n",
              "      <td>...</td>\n",
              "    </tr>\n",
              "    <tr>\n",
              "      <th>21914</th>\n",
              "      <td>united panic bought striker telling come train...</td>\n",
              "      <td>neu</td>\n",
              "    </tr>\n",
              "    <tr>\n",
              "      <th>17453</th>\n",
              "      <td></td>\n",
              "      <td>neu</td>\n",
              "    </tr>\n",
              "    <tr>\n",
              "      <th>20344</th>\n",
              "      <td>nzd usd technical bias bearish dow jones brush...</td>\n",
              "      <td>neu</td>\n",
              "    </tr>\n",
              "    <tr>\n",
              "      <th>1878</th>\n",
              "      <td>sounds like something catch drinking beers spr...</td>\n",
              "      <td>neu</td>\n",
              "    </tr>\n",
              "    <tr>\n",
              "      <th>6465</th>\n",
              "      <td>update beijing reported 11 new cases pneumonia...</td>\n",
              "      <td>neu</td>\n",
              "    </tr>\n",
              "  </tbody>\n",
              "</table>\n",
              "<p>9000 rows × 2 columns</p>\n",
              "</div>\n",
              "      <button class=\"colab-df-convert\" onclick=\"convertToInteractive('df-48ac57c7-9137-4b9a-8fd3-33a03d30c21d')\"\n",
              "              title=\"Convert this dataframe to an interactive table.\"\n",
              "              style=\"display:none;\">\n",
              "        \n",
              "  <svg xmlns=\"http://www.w3.org/2000/svg\" height=\"24px\"viewBox=\"0 0 24 24\"\n",
              "       width=\"24px\">\n",
              "    <path d=\"M0 0h24v24H0V0z\" fill=\"none\"/>\n",
              "    <path d=\"M18.56 5.44l.94 2.06.94-2.06 2.06-.94-2.06-.94-.94-2.06-.94 2.06-2.06.94zm-11 1L8.5 8.5l.94-2.06 2.06-.94-2.06-.94L8.5 2.5l-.94 2.06-2.06.94zm10 10l.94 2.06.94-2.06 2.06-.94-2.06-.94-.94-2.06-.94 2.06-2.06.94z\"/><path d=\"M17.41 7.96l-1.37-1.37c-.4-.4-.92-.59-1.43-.59-.52 0-1.04.2-1.43.59L10.3 9.45l-7.72 7.72c-.78.78-.78 2.05 0 2.83L4 21.41c.39.39.9.59 1.41.59.51 0 1.02-.2 1.41-.59l7.78-7.78 2.81-2.81c.8-.78.8-2.07 0-2.86zM5.41 20L4 18.59l7.72-7.72 1.47 1.35L5.41 20z\"/>\n",
              "  </svg>\n",
              "      </button>\n",
              "      \n",
              "  <style>\n",
              "    .colab-df-container {\n",
              "      display:flex;\n",
              "      flex-wrap:wrap;\n",
              "      gap: 12px;\n",
              "    }\n",
              "\n",
              "    .colab-df-convert {\n",
              "      background-color: #E8F0FE;\n",
              "      border: none;\n",
              "      border-radius: 50%;\n",
              "      cursor: pointer;\n",
              "      display: none;\n",
              "      fill: #1967D2;\n",
              "      height: 32px;\n",
              "      padding: 0 0 0 0;\n",
              "      width: 32px;\n",
              "    }\n",
              "\n",
              "    .colab-df-convert:hover {\n",
              "      background-color: #E2EBFA;\n",
              "      box-shadow: 0px 1px 2px rgba(60, 64, 67, 0.3), 0px 1px 3px 1px rgba(60, 64, 67, 0.15);\n",
              "      fill: #174EA6;\n",
              "    }\n",
              "\n",
              "    [theme=dark] .colab-df-convert {\n",
              "      background-color: #3B4455;\n",
              "      fill: #D2E3FC;\n",
              "    }\n",
              "\n",
              "    [theme=dark] .colab-df-convert:hover {\n",
              "      background-color: #434B5C;\n",
              "      box-shadow: 0px 1px 3px 1px rgba(0, 0, 0, 0.15);\n",
              "      filter: drop-shadow(0px 1px 2px rgba(0, 0, 0, 0.3));\n",
              "      fill: #FFFFFF;\n",
              "    }\n",
              "  </style>\n",
              "\n",
              "      <script>\n",
              "        const buttonEl =\n",
              "          document.querySelector('#df-48ac57c7-9137-4b9a-8fd3-33a03d30c21d button.colab-df-convert');\n",
              "        buttonEl.style.display =\n",
              "          google.colab.kernel.accessAllowed ? 'block' : 'none';\n",
              "\n",
              "        async function convertToInteractive(key) {\n",
              "          const element = document.querySelector('#df-48ac57c7-9137-4b9a-8fd3-33a03d30c21d');\n",
              "          const dataTable =\n",
              "            await google.colab.kernel.invokeFunction('convertToInteractive',\n",
              "                                                     [key], {});\n",
              "          if (!dataTable) return;\n",
              "\n",
              "          const docLinkHtml = 'Like what you see? Visit the ' +\n",
              "            '<a target=\"_blank\" href=https://colab.research.google.com/notebooks/data_table.ipynb>data table notebook</a>'\n",
              "            + ' to learn more about interactive tables.';\n",
              "          element.innerHTML = '';\n",
              "          dataTable['output_type'] = 'display_data';\n",
              "          await google.colab.output.renderOutput(dataTable, element);\n",
              "          const docLink = document.createElement('div');\n",
              "          docLink.innerHTML = docLinkHtml;\n",
              "          element.appendChild(docLink);\n",
              "        }\n",
              "      </script>\n",
              "    </div>\n",
              "  </div>\n",
              "  "
            ]
          },
          "metadata": {},
          "execution_count": 20
        }
      ]
    },
    {
      "cell_type": "code",
      "source": [
        "df_test['label'].value_counts()"
      ],
      "metadata": {
        "colab": {
          "base_uri": "https://localhost:8080/"
        },
        "id": "Tsu_uPgDZ8td",
        "outputId": "7e8519d3-ab4c-4ca9-cf37-f7fa819c4627"
      },
      "execution_count": 21,
      "outputs": [
        {
          "output_type": "execute_result",
          "data": {
            "text/plain": [
              "neu    6828\n",
              "neg    1591\n",
              "pos     581\n",
              "Name: label, dtype: int64"
            ]
          },
          "metadata": {},
          "execution_count": 21
        }
      ]
    },
    {
      "cell_type": "code",
      "source": [
        "tfidf_vect = TfidfVectorizer(max_features = 5000)\n",
        "tfidf_vect.fit(cov_df['tweet'])\n",
        "X_train_tfidf = tfidf_vect.transform(df_train['tweet'])\n",
        "X_test_tfidf = tfidf_vect.transform(df_test['tweet'])"
      ],
      "metadata": {
        "id": "0zLYFlVCZ_hp"
      },
      "execution_count": 22,
      "outputs": []
    },
    {
      "cell_type": "code",
      "source": [
        "print(X_train_tfidf)"
      ],
      "metadata": {
        "colab": {
          "base_uri": "https://localhost:8080/"
        },
        "id": "188q0jpBaCl2",
        "outputId": "6ad37695-f3f3-4b10-d94e-1ed1eb7ebab3"
      },
      "execution_count": 23,
      "outputs": [
        {
          "output_type": "stream",
          "name": "stdout",
          "text": [
            "  (0, 1769)\t0.9820380935175604\n",
            "  (0, 1084)\t0.1886827572418721\n",
            "  (1, 4753)\t0.21679885870597485\n",
            "  (1, 4377)\t0.3581839368019721\n",
            "  (1, 3305)\t0.38787712180860406\n",
            "  (1, 3068)\t0.34081834385453014\n",
            "  (1, 1845)\t0.37687686080158533\n",
            "  (1, 1084)\t0.05393509897533754\n",
            "  (1, 892)\t0.12856204218640618\n",
            "  (1, 885)\t0.43799262726418625\n",
            "  (1, 865)\t0.38205896757112445\n",
            "  (1, 340)\t0.24252166730208247\n",
            "  (2, 4340)\t0.3563588171039255\n",
            "  (2, 3387)\t0.5700515266669346\n",
            "  (2, 2631)\t0.4284729679995978\n",
            "  (2, 1800)\t0.29150557033010466\n",
            "  (2, 1624)\t0.49723786691033817\n",
            "  (2, 892)\t0.17955381446123975\n",
            "  (3, 4582)\t0.1730441577472715\n",
            "  (3, 4136)\t0.43007307073670525\n",
            "  (3, 4029)\t0.5227986522679534\n",
            "  (3, 2753)\t0.33257621787974656\n",
            "  (3, 2410)\t0.3873574556621813\n",
            "  (3, 2321)\t0.36446314263476604\n",
            "  (3, 327)\t0.34393069212846483\n",
            "  :\t:\n",
            "  (20996, 2753)\t0.30107356631588833\n",
            "  (20996, 2577)\t0.24262895571163948\n",
            "  (20996, 2429)\t0.3579601509109994\n",
            "  (20996, 2311)\t0.2991589368458146\n",
            "  (20996, 1629)\t0.3554123389683949\n",
            "  (20996, 1075)\t0.1676288214142926\n",
            "  (20996, 569)\t0.3437778447574179\n",
            "  (20997, 4669)\t0.5797098123518676\n",
            "  (20997, 1269)\t0.8074038416492805\n",
            "  (20997, 1084)\t0.10970674524816637\n",
            "  (20998, 4355)\t0.3525702335264615\n",
            "  (20998, 4130)\t0.34656211787868213\n",
            "  (20998, 4075)\t0.31973675293712145\n",
            "  (20998, 3986)\t0.295055103677979\n",
            "  (20998, 3300)\t0.3205953073497557\n",
            "  (20998, 2155)\t0.3146027906154608\n",
            "  (20998, 1819)\t0.42484195700469807\n",
            "  (20998, 1679)\t0.42484195700469807\n",
            "  (20998, 1084)\t0.05968399849590221\n",
            "  (20999, 3190)\t0.2573070087547569\n",
            "  (20999, 3059)\t0.3199541439551071\n",
            "  (20999, 1911)\t0.4667420810193298\n",
            "  (20999, 1084)\t0.07190724999009784\n",
            "  (20999, 982)\t0.5171247980111151\n",
            "  (20999, 180)\t0.583939696799425\n"
          ]
        }
      ]
    },
    {
      "cell_type": "code",
      "source": [
        "print(X_test_tfidf)"
      ],
      "metadata": {
        "colab": {
          "base_uri": "https://localhost:8080/"
        },
        "id": "eD4zXBXeaFoB",
        "outputId": "cee4ebe5-0a9b-4f22-b835-01ea74062243"
      },
      "execution_count": 24,
      "outputs": [
        {
          "output_type": "stream",
          "name": "stdout",
          "text": [
            "  (0, 4668)\t0.3909188775636305\n",
            "  (0, 4582)\t0.14746095507261966\n",
            "  (0, 2577)\t0.22839221329358472\n",
            "  (0, 1881)\t0.3290341296197336\n",
            "  (0, 1750)\t0.3295590643132611\n",
            "  (0, 1594)\t0.39480543017551645\n",
            "  (0, 1476)\t0.4245753225206686\n",
            "  (0, 1379)\t0.2685793615429394\n",
            "  (0, 1129)\t0.2923419470697981\n",
            "  (0, 1075)\t0.1577928628605506\n",
            "  (0, 899)\t0.1943431301897898\n",
            "  (1, 4423)\t0.4065710914201624\n",
            "  (1, 4068)\t0.4615050139142989\n",
            "  (1, 3175)\t0.28231827656214786\n",
            "  (1, 3001)\t0.230921091615753\n",
            "  (1, 2924)\t0.2840853512957211\n",
            "  (1, 2321)\t0.31983581554730706\n",
            "  (1, 2309)\t0.24612015478950988\n",
            "  (1, 1084)\t0.05683045113923439\n",
            "  (1, 1014)\t0.40869920029349105\n",
            "  (1, 63)\t0.27357925195614435\n",
            "  (2, 4562)\t0.44455410757181374\n",
            "  (2, 4513)\t0.6131624119680688\n",
            "  (2, 3142)\t0.6393611858020625\n",
            "  (2, 1084)\t0.13274327131839564\n",
            "  :\t:\n",
            "  (8997, 4527)\t0.4418650492925762\n",
            "  (8997, 4246)\t0.47178528017682814\n",
            "  (8997, 2432)\t0.4418650492925762\n",
            "  (8997, 1438)\t0.37380509146228624\n",
            "  (8997, 1084)\t0.060765899067208036\n",
            "  (8997, 543)\t0.49346374227823037\n",
            "  (8998, 4035)\t0.3873428990285407\n",
            "  (8998, 3982)\t0.37082328107730017\n",
            "  (8998, 3969)\t0.31605110134646613\n",
            "  (8998, 2577)\t0.22736880908456572\n",
            "  (8998, 1448)\t0.3822499390786994\n",
            "  (8998, 809)\t0.3144396717493929\n",
            "  (8998, 674)\t0.3659854056845135\n",
            "  (8998, 556)\t0.426541977426361\n",
            "  (8999, 4513)\t0.27570325934661727\n",
            "  (8999, 3593)\t0.2956043340737871\n",
            "  (8999, 3272)\t0.34850628077640095\n",
            "  (8999, 3001)\t0.24252772380205057\n",
            "  (8999, 2950)\t0.1976223206570861\n",
            "  (8999, 2408)\t0.3520594612356868\n",
            "  (8999, 2311)\t0.3045732885695471\n",
            "  (8999, 801)\t0.20003500307856822\n",
            "  (8999, 566)\t0.3374792755002241\n",
            "  (8999, 23)\t0.36248136609938464\n",
            "  (8999, 18)\t0.3395071830074344\n"
          ]
        }
      ]
    },
    {
      "cell_type": "code",
      "source": [
        "print(tfidf_vect.vocabulary_)"
      ],
      "metadata": {
        "colab": {
          "base_uri": "https://localhost:8080/"
        },
        "id": "pZ0sFLiwaIxz",
        "outputId": "c061f7e5-dfb7-48c4-bfc1-23f5e5d2de21"
      },
      "execution_count": 25,
      "outputs": [
        {
          "output_type": "stream",
          "name": "stdout",
          "text": [
            "{'coronavirus': 1084, 'human': 2202, 'types': 4469, 'cdc': 829, 'https': 2195, 'co': 957, 'that': 4282, 'äôs': 4878, 'üíø': 4970, 'true': 4439, 'corona': 1075, 'virus': 4582, 'swine': 4206, 'bird': 606, 'flu': 1822, 'in': 2273, 'december': 1253, 'when': 4681, 'whole': 4697, 'is': 2371, 'busy': 742, 'not': 2995, 'sars': 3714, 'possibly': 3301, 'new': 2950, 'difficult': 1355, 'to': 4349, 'confirm': 1021, 'because': 548, 'patients': 3176, 'identified': 2226, 'later': 2517, 'infection': 2311, 'disease': 1379, 'outbreak': 3105, 'news': 2955, 'from': 1892, 'the': 4284, 'who': 4692, 'middle': 2796, 'east': 1491, 'respiratory': 3615, 'syndrome': 4212, 'mers': 2777, 'cov': 1136, 'äì': 4858, 'united': 4498, 'arab': 409, 'china': 892, 'media': 2753, 'wsj': 4778, 'says': 3724, 'sources': 3985, 'tell': 4251, 'them': 4289, 'mystery': 2898, 'pneumonia': 3272, 'something': 3969, 'has': 2068, 'been': 554, 'causing': 818, 'same': 3705, 'family': 1719, 'as': 438, 'and': 350, 'virologists': 4579, 'weigh': 4664, 'on': 3056, 'novel': 3001, 'chinese': 899, 'authorities': 479, 'have': 2074, 'made': 2668, 'of': 3031, 'or': 3077, 'why': 4701, 'ccp': 826, 'keep': 2448, 'saying': 3723, 'unknown': 4502, 'cause': 815, 'obviously': 3025, 'related': 3565, 'let': 2560, 'report': 3592, 'mysterious': 2897, 'illnesses': 2243, 'may': 2738, 'be': 540, 'identifies': 2227, 'strain': 4104, 'source': 3984, 'always': 330, 'feel': 1750, 'weird': 4667, 'hoping': 2168, 'for': 1842, 'another': 365, 'our': 3098, 'research': 3604, 'illness': 2242, 'cnet': 952, 'wuhan': 4783, 'caused': 816, 'by': 748, 'bbc': 535, 'via': 4562, 'googlenews': 1989, 'health': 2092, 'advisory': 252, 'about': 197, 'ask': 445, 'with': 4730, 'severe': 3825, 'scientists': 3745, 'an': 346, 'unusual': 4510, 'scary': 3734, 'scale': 3726, 'makes': 2686, 'its': 2394, 'out': 3100, '10': 11, 'n95': 2902, 'masks': 2726, 'genome': 1943, 'sequence': 3811, 'associated': 455, 'cluster': 948, 'crap': 1154, 'quick': 3466, 'search': 3766, 'suggests': 4153, 'looks': 2637, 'like': 2577, 'bat': 525, '89': 173, '12': 23, 'lab': 2495, 'findings': 1787, 'reports': 3598, '1st': 51, 'death': 1247, 'type': 4468, 'cbc': 821, 'first': 1800, 'jan': 2407, '11': 18, '59': 132, 'am': 331, 'et': 1601, 'rt': 3678, 'all': 312, 'interim': 2347, 'guidance': 2031, 'technical': 4246, 'will': 4712, 'updated': 4514, 'needed': 2939, 'there': 4296, 'it': 2388, 'call': 753, 'transparency': 4404, 'data': 1225, 'sharing': 3840, 'concerning': 1010, 'wuhanpneumonia': 4792, 'if': 2232, 'releases': 3569, 'genetic': 1940, 'now': 3004, 'deadly': 1241, 'baby': 498, 'born': 652, 'pic': 3225, 'üòç': 4977, 'isn': 2374, 'currently': 1201, 'spreading': 4032, 'whowpro': 4700, 'drtedros': 1463, 'sequences': 3812, '2019': 63, 'ncov': 2924, 'allow': 317, 'countries': 1128, 'develop': 1327, 'sp': 3990, 'thailand': 4278, 'confirms': 1024, 'traveler': 4410, 'hospitalized': 2174, 'form': 1859, 'according': 212, 'officials': 3042, 'good': 1983, 'hasn': 2070, 'spread': 4029, 'seafood': 3763, 'market': 2720, 'major': 2681, 'transport': 4405, 'hub': 2198, 'closed': 939, 'no': 2983, 'brace': 667, 'yourself': 4830, 'america': 337, 'this': 4308, 'nasty': 2912, 'amp': 345, 'killer': 2461, 'japan': 2409, 'second': 3772, 'reported': 3593, '41': 110, 'patient': 3175, 'äúit': 4890, 'likely': 2580, 'more': 2860, 'cases': 801, 'fear': 1737, 'up': 4511, '500': 123, 'caught': 814, 'dies': 1352, 'confirmed': 1023, 'case': 800, 'fears': 1740, 'three': 4324, 'airports': 296, 'screen': 3755, 'passengers': 3165, 'issues': 2386, 'warning': 4626, 'after': 267, 'spreads': 4034, 'at': 460, 'wuhansars': 4793, 'viral': 4576, 'symptoms': 4211, 'entry': 1568, 'screenings': 3758, 'us': 4524, 'airline': 291, 'amid': 340, 'lax': 2531, 'other': 3094, '17': 42, '03': 5, 'pm': 3270, 'raising': 3487, 'questions': 3464, 'infected': 2309, 'found': 1865, 'youtube': 4831, 'ex': 1635, '2nd': 86, 'city': 915, 'since': 3903, 'wtf': 4779, 'sounds': 3982, 'than': 4279, 'many': 2707, 'initially': 2326, 'thought': 4312, 'through': 4326, 'contact': 1040, 'where': 4682, 'world': 4753, 'stands': 4054, 'emerging': 1538, 'some': 3965, 'estimates': 1600, 'put': 3445, 'number': 3010, 'people': 3190, 'closely': 940, 'check': 873, 'éº': 4916, 'çπ': 4914, 'least': 2545, 'suspected': 4192, 'shenzhen': 3845, 'shanghai': 3835, 'hundreds': 2207, 'also': 327, 'export': 1675, 'grossly': 2014, 'study': 4133, 'cnn': 953, 'already': 325, 'any': 377, 'idea': 2224, 'what': 4678, 'costs': 1114, 'do': 1402, 'newly': 2953, 'developed': 1328, 'test': 4268, 'alert': 306, 'korea': 2486, 'seems': 3786, 'pretty': 3358, 'bad': 503, 'are': 411, 'worried': 4757, 'could': 1123, 'mutate': 2889, 'into': 2352, 'even': 1619, 'potent': 3309, 'modelovirus': 2836, 'surge': 4175, 'jumps': 2441, 'cities': 910, 'again': 269, 'üèæ': 4954, 'äç': 4856, 'ôçô': 4929, 'infections': 2312, 'ajenews': 298, 'latest': 2518, 'blog': 627, 'which': 4684, 'doesn': 1412, 'include': 2275, 'factbox': 1701, 'post': 3302, 'we': 4645, 'know': 2476, 'published': 3433, 'trending': 4425, 'tourists': 4380, 'coming': 979, 'nepal': 2945, 'taking': 4224, 'epidemic': 1575, 'very': 4561, '2019ncov': 65, 'beijing': 566, 'breaks': 681, 'silence': 3893, 'but': 743, 'only': 3063, 'rumours': 3684, 'äô': 4872, 'transmission': 4401, 'imminent': 2253, 'head': 2083, 'government': 1999, 'expert': 1663, 'team': 4243, 'state': 4064, 'ap': 385, 'york': 4824, 'times': 4342, 'zero': 4835, 'hedge': 2104, 'lookner': 2636, 'detected': 1321, 'well': 4669, 'abc': 191, 'said': 3699, 'dr': 1443, 'infectious': 2313, 'globalhealth': 1967, 'skynewsbreak': 3923, 'had': 2041, 'last': 2514, 'year': 4811, 'drinking': 1448, '15': 37, 'south': 3986, 'eqqt8822zi': 1582, 'you': 4825, 'think': 4304, 'reaches': 3510, 'your': 4828, 'me': 2741, 'hearing': 2097, 'might': 2798, 'next': 2960, 'plague': 3240, 'still': 4087, 'animal': 357, 'transmitted': 4403, 'national': 2914, 'hold': 2150, 'emergency': 1536, 'meeting': 2763, 'asia': 441, 'global': 1966, 'hysteria': 2217, 'should': 3868, 'don': 1421, 'äôt': 4879, 'panic': 3147, 'just': 2443, 'yet': 4818, 'folks': 1830, 'their': 4287, 'jokes': 2430, 'äôm': 4876, 'old': 3049, 'so': 3951, 'means': 2745, 'friday': 1886, 'night': 2973, 'calls': 756, 'reuters': 3636, 'wrap': 4770, 'tonight': 4359, 'touch': 4373, 'daily': 1213, 'watch': 4638, 'dog': 1414, 'meat': 2751, 'trade': 4390, 'üíî': 4969, 'definitely': 1274, 'covering': 1141, 'being': 567, 'severity': 3826, 'over': 3115, '200': 53, 'extends': 1685, 'reach': 3508, 'experts': 1664, 'across': 218, 'planet': 3246, 'person': 3203, 'can': 764, 'between': 582, 'humans': 2204, 'known': 2479, 'contagious': 1042, 'nytimes': 3019, 'freaking': 1880, 'really': 3523, 'dangerous': 1219, 'influenza': 2317, 'kill': 2459, 'anyways': 383, 'borders': 650, 'cant': 778, 'enter': 1562, 'üôñ': 4995, 'üòè': 4978, 'making': 2688, 'sick': 3880, 'how': 2190, 'treatment': 4422, 'prevent': 3359, 'pregnancy': 3337, 'getting': 1951, 'scared': 3730, 'medics': 2760, 'hazmat': 2080, 'suits': 4156, 'air': 288, 'plane': 3244, 'âõω': 4849, 'åß': 4895, 'åï': 4901, 'medical': 2755, 'workers': 4749, 're': 3506, 'does': 1411, 'far': 1724, 'low': 2653, 'mortality': 2864, 'rate': 3499, 'science': 3741, 'va': 4538, 'struck': 4123, 'most': 2867, 'ahead': 282, 'period': 3198, 'group': 2016, 'ffs': 1764, 'rather': 3501, 'cdcgov': 830, 'going': 1979, 'change': 860, 'fees': 1754, 'want': 4615, 'leave': 2546, 'earlier': 1481, 'due': 1470, 'was': 4632, 'here': 2117, 'need': 2938, 'video': 4568, 'ma': 2664, 'explained': 1666, 'ray': 3505, 'won': 4739, 'soup': 3983, 'banned': 514, 'üòú': 4988, 'read': 3514, 'several': 3824, 'articles': 434, 'exactly': 1637, 'breaking': 677, 'man': 2695, 'tested': 4269, 'returning': 3633, 'cousin': 1135, 'began': 559, 'music': 2886, 'tech': 4245, 'thanks': 4281, 'boston': 654, 'doctor': 1408, 'warns': 4628, 'everyone': 1628, 'organization': 3085, 'rise': 3654, 'expected': 1655, 'worse': 4762, 'xenophobia': 4797, 'rampant': 3492, 'uk': 4476, 'symptom': 4210, 'make': 2683, 'every': 1625, 'pr': 3318, 'slice': 3928, 'lime': 2584, 'citizens': 913, 'advised': 249, 'wear': 4652, 'particularly': 3158, 'before': 557, 'killed': 2460, 'third': 4307, 'fourth': 1868, 'prepares': 3347, 'meet': 2762, 'monkey': 2853, 'takes': 4223, 'life': 2573, 'asks': 448, 'doctors': 1409, 'look': 2633, 'mounts': 2872, 'claims': 919, '4th': 121, 'nations': 2916, 'start': 4059, 'screening': 3757, 'travelers': 4411, 'concerns': 1011, 'prompt': 3400, '21': 69, '57': 130, 'top': 4363, 'de': 1235, 'twitter': 4466, 'en': 1547, '2020': 66, 'wild': 4709, 'animals': 358, 'origin': 3087, 'nah': 2904, 'better': 581, 'forex': 1855, 'today': 4350, 'markets': 2722, 'trump': 4441, 'child': 887, 'tests': 4271, 'positive': 3298, 'cebu': 831, 'nyt': 3018, 'australia': 474, 'flights': 1814, 'residents': 3609, 'leaving': 2548, 'sputnikint': 4037, 'yikes': 4821, '20': 52, 'doh': 1416, 'admitted': 242, 'hospital': 2173, 'continues': 1054, 'dead': 1237, 'update': 4513, 'posted': 3303, 'weekend': 4660, 'they': 4299, 'go': 1975, 'trip': 4435, 'real': 3517, 'carry': 794, 'give': 1961, 'scientific': 3743, 'nature': 2919, 'cure': 1194, 'infect': 2308, 'tuesday': 4451, 'warned': 4625, 'cover': 1138, 'anyone': 380, 'puts': 3446, 'face': 1692, 'none': 2987, 'james': 2406, 'explain': 1665, 'whether': 4683, 'january': 2408, 'pathogen': 3174, 'high': 2125, 'risk': 3658, 'including': 2277, 'capital': 782, 'sixth': 3915, 'victim': 4564, 'holiday': 2153, 'travel': 4408, 'risks': 3659, 'almost': 321, '300': 88, 'occupied': 3027, 'herald': 2115, 'sun': 4159, 'reached': 3509, 'mostly': 2868, 'college': 971, 'coverup': 1142, 'hahaha': 2043, 'unless': 4503, 'public': 3431, 'help': 2109, 'talking': 4226, 'cats': 812, 'dont': 1429, 'one': 3059, 'tho': 4309, 'then': 4292, 'ive': 2397, 'years': 4812, 'landed': 2504, 'soil': 3958, 'quickly': 3468, 'marketwatch': 2723, 'chigrl': 886, 'announces': 362, 'way': 4643, 'states': 4067, 'fast': 1726, 'felt': 1757, 'my': 2894, 'everything': 1629, 'meaning': 2744, 'hell': 2107, 'pack': 3132, 'drink': 1447, 'thing': 4302, 'washington': 4635, 'catch': 809, 'discovered': 1371, 'get': 1949, 'seeing': 3781, 'knowing': 2477, 'never': 2949, 'things': 4303, 'friends': 1889, 'returned': 3632, 'believe': 569, 'needs': 2940, 'declare': 1258, 'immediately': 2251, 'sorry': 3978, 'kinda': 2466, 'dow': 1438, 'falls': 1716, '100': 12, 'points': 3277, 'big': 590, 'decline': 1262, 'boeing': 641, 'ba': 496, 'republic': 3599, 'patented': 3171, 'arriving': 431, 'chicago': 881, 'airport': 295, 'screened': 3756, 'american': 338, 'bro': 703, 'threatening': 4321, 'further': 1913, 'netflix': 2947, 'll': 2608, 'bring': 693, 'hang': 2055, 'goats': 1976, 'while': 4685, 'else': 1528, 'gets': 1950, 'bout': 661, 'situation': 3912, 'summary': 4157, 'usa': 4525, 'possible': 3300, 'ph': 3212, 'official': 3040, 'confirmation': 1022, 'ho': 2146, 'reportedly': 3594, 'shut': 3875, 'foreign': 1852, 'ah': 281, 'amazing': 332, 'seriously': 3816, 'subscribe': 4140, 'he': 2081, 'arrived': 429, 'seattle': 3770, 'int': 2338, 'ai': 283, 'chance': 857, 'buy': 744, 'stocks': 4090, 'jim': 2417, 'cramer': 1153, 'cnbc': 951, 'expand': 1649, 'welcome': 4668, 'begun': 563, 'please': 3261, 'practice': 3319, 'personal': 3204, 'social': 3955, 'hygiene': 2214, 'model': 2833, 'iran': 2365, 'doomsday': 1430, 'looming': 2638, 'guys': 2036, 'äù': 4881, 'california': 752, 'sickened': 3881, 'six': 3914, 'die': 1349, 'foxnews': 1872, 'prime': 3368, 'minister': 2812, 'scott': 3750, 'morrison': 2863, 'evolving': 1634, 'fuck': 1897, 'breaking911': 678, 'bs': 712, 'mom': 2842, 'ago': 278, 'told': 4355, 'diagnosed': 1337, 'week': 4659, 'nypost': 3017, 'avoid': 486, 'oh': 3044, 'na': 2903, 'multiple': 2883, 'australians': 476, 'stock': 4089, 'mad': 2667, 'money': 2848, 'uncertainty': 4481, 'ceo': 844, 'hi': 2121, 'seanhannity': 3765, 'wife': 4706, 'asked': 446, 'limes': 2585, 'äôre': 4877, 'trying': 4446, 'sickness': 3882, 'boys': 666, 'contract': 1056, 'semi': 3794, 'staff': 4047, 'take': 4221, 'temperature': 4254, 'begins': 562, 'jamaica': 2405, 'üò': 4972, 'resident': 3608, 'treated': 4420, 'press': 3355, 'become': 549, 'millions': 2807, 'remember': 3578, 'light': 2576, 'recent': 3530, 'üòî': 4984, 'note': 2996, 'viruses': 4584, 'da': 1210, 'bitches': 613, 'stay': 4075, 'away': 492, 'heard': 2096, 'äôall': 4873, 'got': 1993, 'racist': 3479, 'learning': 2544, 'driving': 1455, 'uber': 4471, 'come': 976, 'arrives': 430, 'russia': 3691, 'india': 2291, 'others': 3095, 'boost': 648, 'border': 649, '440': 115, 'scmpnews': 3748, 'live': 2603, 'nine': 2978, 'horror': 2172, 'globe': 1971, 'dying': 1479, 'story': 4102, 'shows': 3874, 'connected': 1028, 'international': 2348, 'kills': 2463, 'antidote': 372, 'apparently': 392, 'por': 3292, 'lo': 2612, 'del': 1277, 'sir': 3908, 'came': 759, 'assume': 456, 'impact': 2257, 'montreal': 2856, 'hospitals': 2175, 'following': 1834, 'realdonaldtrump': 3518, 'county': 1131, 'confused': 1025, 'talk': 4225, 'company': 995, 'business': 739, 'macau': 2666, 'hong': 2161, 'kong': 2484, 'economic': 1498, 'im': 2244, 'names': 2908, 'these': 4298, 'hangover': 2056, 'word': 4744, 'off': 3032, 'coronas': 1082, '01': 2, 'xi': 4800, 'party': 3161, 'shame': 3834, 'mi': 2789, 'province': 3424, 'care': 786, 'special': 4002, 'region': 3558, 'center': 839, 'move': 2874, 'quarantine': 3455, 'traveling': 4412, 'must': 2888, 'fail': 1706, 'information': 2321, 'deaths': 1248, 'map': 2708, 'etc': 1602, 'airlines': 292, 'flight': 1813, 'examined': 1638, 'wont': 4742, 'iranians': 2367, 'north': 2992, 'koreans': 2488, 'english': 1558, 'item': 2392, 'broadcast': 704, 'toll': 4356, 'rises': 3656, 'spectatorindex': 4007, 'index': 2290, 'cathay': 811, 'crew': 1166, 'mainland': 2676, 'difference': 1353, 'comes': 978, 'heading': 2086, 'ground': 2015, 'abcnews': 192, 'prepare': 3344, 'during': 1474, 'lunar': 2658, 'running': 3686, 'page': 3135, 'äî': 4860, 'spy': 4039, 'double': 1434, 'äôll': 4875, 'reading': 3515, 'mind': 2808, 'worry': 4760, 've': 4552, 'created': 1158, 'vaccine': 4541, 'patent': 3170, '130': 26, 'happens': 2060, 'long': 2631, 'end': 1548, 'healthcare': 2093, 'economist': 1501, 'lands': 2505, 'whatever': 4679, 'seem': 3785, 'grave': 2008, 'traveled': 4409, 'superspreader': 4164, 'having': 2077, 'brain': 669, 'surgery': 4176, 'until': 4508, 'looms': 2639, 'hope': 2165, 'üç': 4950, 'contracted': 1057, 'killing': 2462, 'lead': 2534, 'serious': 3815, 'correction': 1109, 'pandemic': 3142, 'mount': 2870, 'hits': 2141, 'increase': 2279, 'around': 421, 'hate': 2072, 'jinping': 2418, 'month': 2854, 'gotten': 1995, 'round': 3675, 'show': 3870, 'substance': 4141, 'close': 938, 'fish': 1801, 'climb': 931, 'perilofafrica': 3197, 'key': 2454, 'grow': 2018, 'begin': 560, 'checking': 875, 'goodbye': 1984, 'actually': 228, 'gonna': 1982, 'image': 2246, 'wwiii': 4796, 'climate': 929, 'changed': 861, 'monitor': 2850, 'precaution': 3328, 'npr': 3006, 'say': 3722, 'totally': 4372, 'under': 4484, 'control': 1060, 'commerce': 983, 'players': 3257, 'ease': 1487, 'prices': 3367, 'disinfectant': 1384, 'linked': 2594, 'msnbc': 2881, 'cancel': 768, '450': 117, 'time': 4340, 'yesterday': 4817, 'fo': 1826, 'likelihood': 2579, 'finland': 1792, 'monitoring': 2852, 'üá': 4940, 'üáß': 4942, 'heathrow': 2102, 'create': 1157, 'separate': 3810, 'arrival': 426, 'area': 412, 'precautionary': 3329, 'measure': 2749, 'great': 2009, 'shape': 3836, 'plan': 3243, 'egypt': 1516, 'highly': 2129, 'measures': 2750, 'stop': 4094, 'entering': 1564, 'olympic': 3051, 'review': 3643, 'paris': 3154, 'back': 499, 'she': 3843, 'cooking': 1067, 'secretary': 3776, 'country': 1129, 'however': 2191, 'sell': 3790, 'protect': 3409, 'poses': 3297, 'leadership': 2537, 'avoiding': 487, 'important': 2267, 'ever': 1624, 'ramp': 3490, 'bats': 529, 'days': 1232, 'couple': 1132, 'impeachment': 2261, 'wednesday': 4658, 'briefing': 690, 'contain': 1043, 'deadass': 1238, 'bc': 539, 'friend': 1887, 'abt': 201, 'scaring': 3733, 'wash': 4633, 'hands': 2054, 'kids': 2458, 'helps': 2113, 'longer': 2632, 'dear': 1246, 'given': 1962, 'diseases': 1380, 'lee': 2551, 'canada': 765, 'threat': 4318, 'turkey': 4455, 'particular': 3157, 'highs': 2130, 'slows': 3936, 'shares': 3839, 'rose': 3673, 'response': 3618, 'struggling': 4127, 'bernie': 577, 'harry': 2066, 'returns': 3634, 'dealing': 1243, 'sharply': 3842, 'mid': 2795, 'tackle': 4217, 'impeachmenttrial': 2262, 'describe': 1305, 'th': 4275, 'previous': 3364, 'tweet': 4462, 'thread': 4317, 'stating': 4068, 'were': 4672, 'picked': 3227, 'ghana': 1952, 'careful': 787, 'shit': 3853, 'would': 4767, 'kenya': 2451, 'steps': 4083, 'surveillance': 4185, 'acting': 220, 'brings': 695, 'hear': 2095, 'efforts': 1515, 'beginning': 561, 'added': 232, '69': 147, 'hubei': 2199, 'total': 4371, 'overseas': 3120, 'closes': 942, 'forces': 1846, 'plans': 3249, 'bringing': 694, 'chin': 891, 'conducted': 1016, 'employers': 1544, 'hr': 2193, 'holy': 2154, 'thats': 4283, 'less': 2557, 'day': 1231, 'wait': 4604, 'anything': 381, 'watching': 4640, 'ourselves': 3099, 'together': 4351, 'li': 2568, 'nigerianews': 2969, 'nigeria': 2967, 'advise': 248, 'against': 270, 'chinavirus': 896, 'suspects': 4193, 'simply': 3899, 'two': 4467, 'tips': 4346, 'technology': 4247, 'lets': 2562, 'aint': 287, 'play': 3255, 'inc': 2274, 'smh': 3942, 'developing': 1329, 'article': 433, 'combat': 974, 'provincial': 3426, 'officer': 3037, 'join': 2425, 'clock': 936, 'share': 3837, 'link': 2593, 'morning': 2862, 'idk': 2231, 'youre': 4829, 'interested': 2345, 'informed': 2323, 'rapidly': 3496, 'food': 1836, 'poisoning': 3279, 'lots': 2649, 'order': 3079, 'spreaders': 4031, 'äôve': 4880, 'too': 4360, 'whitehouse': 4691, 'maybe': 2739, 'system': 4213, 'five': 1803, 'increases': 2281, 'affected': 258, 'afp': 262, 'probably': 3382, 'named': 2907, 'calling': 755, 'fire': 1795, 'ww3': 4795, 'gun': 2034, 'girl': 1959, 'knows': 2480, 'com': 973, 'mean': 2743, 'few': 1762, 'treat': 4419, '70': 150, 'conference': 1017, 'alarm': 303, 'prepared': 3345, 'sparked': 3996, 'crisis': 1168, 'opening': 3070, 'aliexpress': 310, 'package': 3133, 'hit': 2140, 'fresh': 1885, 'free': 1881, 'cost': 1112, 'chilling': 890, 'reveals': 3640, 'scenes': 3737, 'bug': 721, 'turns': 4459, 'ghost': 1953, 'gold': 1980, 'turn': 4456, 'home': 2155, 'yep': 4815, 'isolated': 2377, 'someone': 3968, 'proper': 3404, 'work': 4746, 'tomorrow': 4358, 'overwhelmed': 3122, 'earthquake': 1485, 'warn': 4624, 'mutating': 2891, 'see': 3780, 'tweets': 4464, 'contaminated': 1048, 'much': 2882, 'rising': 3657, 'matter': 2736, 'mask': 2724, 'black': 616, 'white': 4690, 'communist': 991, 'gt': 2024, 'cut': 1203, 'transportation': 4406, 'äúchina': 4884, 'despite': 1313, 'professor': 3392, 'spanish': 3993, 'words': 4745, 'full': 1904, 'shuts': 3877, 'indian': 2292, 'students': 4130, 'anxious': 376, 'virulent': 4581, 'committee': 986, 'potential': 3310, 'plays': 3259, 'shutting': 3878, 'down': 1439, 'trains': 4398, 'living': 2606, 'nightmare': 2974, 'million': 2806, 'train': 4396, 'stations': 4070, 'bus': 734, 'okay': 3048, 'similar': 3897, 'clearly': 927, 'wrong': 4776, 'effect': 1511, 'did': 1347, 'name': 2906, 'demand': 1292, 'beer': 555, 'lock': 2620, 'halt': 2047, 'feared': 1738, 'widespread': 4705, 'officially': 3041, 'mailonline': 2674, 'fatalities': 1729, 'finding': 1786, 'originated': 3091, 'scares': 3731, 'slowly': 3935, 'surely': 4173, 'concern': 1008, 'nbcnews': 2922, 'limit': 2586, 'population': 3291, 'billion': 595, 'nice': 2966, 'companies': 994, 'restricting': 3625, 'äîbut': 4862, 'started': 4060, 'wildlife': 4711, 'taken': 4222, 'underway': 4490, 'right': 3650, 'early': 1482, 'gains': 1922, 'contained': 1044, 'count': 1125, 'doubles': 1435, 'overnight': 3119, 'working': 4750, 'himself': 2133, 'became': 547, 'mexico': 2787, 'ill': 2239, 'visiting': 4589, 'quarantined': 3456, 'damn': 1216, 'üòï': 4985, 'movie': 2876, 'weeks': 4662, 'starting': 4061, 'decide': 1254, 'thursday': 4332, 'postpones': 3307, 'decision': 1257, 'declaring': 1261, 'pigs': 3232, 'goes': 1978, 'creating': 1160, 'üëä': 4962, 'task': 4235, 'info': 2318, 'originating': 3092, 'üë': 4958, 'general': 1939, 'otherwise': 3096, 'suspends': 4197, 'spre': 4028, 'åå': 4897, 'çä': 4910, 'åó': 4903, 'åæ': 4898, 'åô': 4904, 'çã': 4909, 'åã': 4896, 'åñ': 4902, 'åç': 4899, 'åü': 4906, 'rapid': 3495, 'warnings': 4627, 'seeks': 3784, 'heart': 2098, '27': 83, 'ready': 3516, 'sa': 3693, 'üòü': 4990, 'meanwhile': 2747, 'äã': 4853, 'escalate': 1589, 'safely': 3697, 'handle': 2052, 'dw': 1478, 'phone': 3221, 'security': 3779, 'connection': 1030, 'little': 2601, 'went': 4671, 'fly': 1823, 'berlin': 576, 'german': 1946, 'common': 989, 'term': 4260, 'seven': 3822, 'stronger': 4121, 'actions': 222, 'reporting': 3597, 'huh': 2201, 'cbcnews': 822, 'pakistan': 3140, 'walk': 4608, 'ìn': 4926, 'box': 663, 'mouth': 2873, 'stick': 4085, 'quarantines': 3457, 'transit': 4400, 'zerohedge': 4836, 'bar': 516, 'gotta': 1994, 'ingat': 2324, 'daw': 1230, 'ngl': 2962, 'suspend': 4194, 'detect': 1320, 'moscow': 2866, 'worrisome': 4759, 'pollution': 3287, 'taiwan': 4220, 'sealed': 3764, 'isolates': 2378, 'entered': 1563, 'each': 1480, 'private': 3379, 'message': 2780, 'use': 4528, 'robot': 3664, 'certain': 846, 'place': 3237, 'itself': 2395, 'ppl': 3317, 'pick': 3226, 'prepper': 3349, 'called': 754, 'äúcorona': 4885, 'yall': 4806, 'clean': 923, 'streets': 4114, 'üôè': 4993, 'interview': 2350, 'guangzhou': 2026, 'southern': 3988, 'student': 4129, 'lol': 2628, 'ok': 3047, 'brexit': 687, 'australian': 475, 'open': 3068, 'wet': 4676, 'photos': 3223, 'shops': 3861, 'hot': 2179, 'spring': 4035, 'add': 231, 'tourism': 4378, 'tour': 4377, 'budget': 720, 'doubling': 1436, 'wouldn': 4768, 'surprise': 4182, 'current': 1200, 'shot': 3866, 'best': 579, 'guess': 2029, 'send': 3798, 'location': 2618, 'imposes': 2271, 'terrified': 4262, 'truth': 4443, 'podcast': 3274, 'wanna': 4614, 'house': 2187, 'hk': 2144, 'cancelled': 772, 'shutdown': 3876, 'tries': 4430, 'follow': 1831, 'happened': 2058, 'pop': 3289, 'song': 3973, 'gave': 1933, 'snakes': 3947, 'legit': 2555, 'headache': 2084, 'past': 3168, 'happy': 2061, 'boy': 664, 'using': 4534, 'issued': 2385, 'november': 3003, '2018': 62, 'patents': 3172, 'event': 1621, 'aids': 285, 'horrific': 2171, 'disturbing': 1399, 'footage': 1839, 'emerges': 1537, 'visual': 4593, 'guide': 2032, 'wallst': 4611, 'sure': 4172, 'able': 195, 'crowded': 1176, 'front': 1893, 'lines': 2591, '23': 73, 'äë': 4857, 'recorded': 3538, 'find': 1785, 'woke': 4736, 'forexlive': 1856, 'fx': 1916, 'completely': 1003, 'asian': 442, 'department': 1301, 'consumption': 1039, 'controlled': 1061, 'surprised': 4183, 'eating': 1496, 'üí': 4967, '2015': 61, 'äúcoronavirus': 4886, 'quicktake': 3469, 'usual': 4535, 'suspect': 4191, 'snake': 3946, 'fr': 1873, 'le': 2532, 'interesting': 2346, 'development': 1330, 'showing': 3872, 'regions': 3560, 'lmao': 2609, 'understand': 4488, 'works': 4751, 'antibiotics': 371, 'leading': 2538, 'original': 3088, 'passes': 3166, 'break': 674, 'üëá': 4960, 'waiting': 4605, 'queue': 3465, 'outside': 3113, '22': 71, 'airborne': 289, 'yung': 4833, 'potus': 3312, 'putting': 3447, 'lockdown': 2621, 'considered': 1033, 'epicenter': 1573, 'outbrea': 3104, 'wearing': 4653, 'purpose': 3443, 'updates': 4515, 'flee': 1809, 'locked': 2623, 'di': 1335, 'visit': 4587, 'gross': 2013, 'blame': 617, 'restaurants': 3624, 'warming': 4623, 'strains': 4105, 'beg': 558, 'inform': 2320, 'followers': 1833, 'researchers': 3606, 'tipping': 4345, 'point': 3276, 'wuhanchina': 4785, 'beyond': 584, 'cars': 796, 'noodles': 2989, 'travellers': 4414, 'fg': 1765, 'nigerians': 2970, 'nigerian': 2968, 'try': 4445, 'drag': 1444, 'anxiety': 375, 'saw': 3721, 'app': 390, '000': 1, 'blamed': 618, 'pics': 3228, 'emerge': 1534, 'star': 4057, 'st': 4044, 'carrying': 795, 'red': 3546, 'side': 3883, 'investors': 2360, '16': 40, 'observation': 3023, 'mexican': 2786, 'inside': 2332, 'strategy': 4111, 'seen': 3787, 'pandemics': 3143, 'london': 2630, 'reveal': 3637, 'non': 2986, 'specific': 4005, 'clear': 925, 'peter': 3209, 'offer': 3033, 'kit': 2471, 'blown': 634, 'community': 993, 'owned': 3124, 'centers': 840, 'sta': 4045, 'lagos': 2501, 'govt': 2002, 'alerts': 307, 'town': 4383, 'her': 2114, 'statement': 4066, 'released': 3568, 'halts': 2048, 'fight': 1769, 'khabarhub': 2455, 'growing': 2019, 'course': 1133, 'pray': 3322, 'selling': 3792, 'koalas': 2482, 'eat': 1494, 'huanggang': 2196, 'indoor': 2300, 'grips': 2012, 'guangdong': 2025, 'local': 2616, 'éä': 4918, 'êº': 4919, 'yo': 4822, 'sold': 3959, 'bbcworld': 538, 'yes': 4816, 'terrible': 4261, 'brazil': 673, 'expanded': 1650, 'restrictions': 3626, 'affect': 257, 'becomes': 550, 'talks': 4227, 'coronavirusoutbreak': 1092, 'coronovirus': 1104, 'ass': 449, 'caution': 819, '1820': 46, 'cholera': 903, '1920': 49, 'bubonic': 719, 'prep': 3341, 'codx': 962, 'diagnostics': 1340, 'platform': 3254, 'yahoofinance': 4805, 'didn': 1348, 'üòæ': 4976, 'victims': 4565, 'pre': 3327, 'existing': 1647, 'conditions': 1015, 'such': 4145, 'beware': 583, 'washing': 4634, 'cannot': 777, 'anger': 353, 'orders': 3082, 'doing': 1417, 'el': 1521, 'huawei': 2197, 'grows': 2021, 'bans': 515, 'woman': 4737, 'france': 1875, 'online': 3062, 'march': 2715, 'late': 2515, 'april': 407, 'f1': 1690, 'uae': 4470, 'distract': 1395, 'appetite': 399, 'locks': 2625, 'cancels': 774, 'events': 1622, 'threatens': 4322, 'growth': 2022, 'macao': 2665, 'philippines': 3219, 'stops': 4097, 'appearance': 395, 'accident': 210, 'stuck': 4128, 'breakfast': 676, 'wuhancoronavirus': 4786, 'singapore': 3905, 'film': 1778, 'contagion': 1041, 'channel': 864, 'japanese': 2410, 'customers': 1202, 'effort': 1514, 'level': 2565, 'cancellation': 770, 'celebrations': 833, 'used': 4529, 'vaccines': 4542, 'decade': 1252, 'biggest': 592, 'load': 2613, 'nonsense': 2988, 'nhs': 2964, 'plagueinc': 3241, 'accelerating': 206, 'affects': 260, 'body': 640, 'smartnews': 3940, 'texas': 4272, 'passenger': 3164, 'sent': 3805, '50': 122, 'dubai': 1468, 'bitcoin': 614, 'profit': 3393, 'losses': 2646, 'limited': 2587, 'investigating': 2355, 'ministry': 2814, 'fxstreet': 1917, 'within': 4732, 'vietnam': 4570, 'protection': 3411, 'gear': 1936, 'alongside': 324, 'ones': 3060, 'oil': 3046, 'traders': 4391, 'threats': 4323, 'posed': 3296, 'scotland': 3749, 'reporter': 3595, 'uh': 4474, 'four': 1867, 'mentioned': 2776, 'filipinos': 1775, 'guardian': 2028, 'build': 722, 'testing': 4270, 'february': 1744, 'unprecedented': 4506, 'worrying': 4761, 'wuhanvirus': 4794, 'epidemiology': 1579, 'healthy': 2094, 'save': 3719, 'lives': 2605, 'failed': 1707, 'üíä': 4968, 'nurse': 3012, 'saudi': 3718, 'peop': 3188, 'short': 3862, 'btc': 713, 'northern': 2993, 'ireland': 2369, 'scientist': 3744, 'wake': 4606, 'ou': 3097, 'threaten': 4319, 'economy': 1502, 'canadians': 767, 'futures': 1915, 'poised': 3278, 'gain': 1921, 'game': 1924, 'easily': 1490, 'previously': 3365, '13': 25, 'factory': 1704, 'qanon': 3449, 'usatoday': 4526, 'decides': 1256, 'rumor': 3682, 'dna': 1401, 'seek': 3782, 'god': 1977, 'bid': 588, 'disrupted': 1390, 'punishment': 3440, 'uighur': 4475, 'muslims': 2887, 'gov': 1996, 'p4': 3129, 'laboratory': 2496, 'done': 1428, 'üì': 4966, 'summer': 4158, 'fell': 1755, 'idiot': 2229, 'decided': 1255, 'kung': 2491, 'üáπ': 4945, 'üáø': 4944, 'üáµ': 4941, 'ncov2019': 2926, 'publichealth': 3432, 'reminds': 3580, 'giant': 1954, 'forced': 1845, 'postpone': 3305, 'upcoming': 4512, 'safe': 3696, 'un': 4479, 'cas': 799, 'contamination': 1049, 'signal': 3890, 'hongkong': 2162, 'download': 1440, 'dedicated': 1265, 'vancouver': 4548, 'toronto': 4369, 'fan': 1720, 'vacation': 4539, 'prevention': 3361, 'centre': 842, 'mother': 2869, 'angry': 355, 'shake': 3831, 'lot': 2648, 'stopped': 4095, 'shock': 3855, 'videos': 4569, 'collapsing': 968, 'teacher': 4241, 'terror': 4265, 'edge': 1504, 'coast': 959, 'output': 3111, 'birthday': 610, 'delayed': 1279, 'plastic': 3253, 'tube': 4450, 'stuff': 4135, 'bit': 611, 'funny': 1911, 'üòé': 4979, 'counter': 1126, 'cough': 1118, 'simulation': 3901, 'months': 2855, 'signs': 3892, 'written': 4775, '90': 175, 'drip': 1449, 'racism': 3478, 'evidence': 1631, 'admit': 240, 'somewhat': 3970, 'exercise': 1646, 'increased': 2280, 'iiq6idaigw': 2237, 'ban': 509, '18': 45, 'simple': 3898, 'conspiracy': 1035, 'happening': 2059, 'arabia': 410, 'hiv': 2143, 'run': 3685, 'monitored': 2851, 'alibaba': 309, 'coffee': 963, 'politico': 3284, 'outbreaks': 3106, 'both': 655, 'provide': 3421, 'colleague': 969, 'fro': 1891, 'mail': 2673, 'scottish': 3751, 'indonesia': 2298, 'line': 2589, 'forget': 1857, 'design': 1310, 'housing': 2189, 'stories': 4100, 'coughing': 1120, 'se': 3761, 'que': 3460, 'concert': 1012, 'thank': 4280, 'ima': 2245, 'soon': 3976, 'died': 1350, '600': 136, 'forever': 1854, 'wish': 4728, 'evil': 1632, 'suddenly': 4149, 'disappear': 1363, 'ebola': 1497, 'americans': 339, 'fifth': 1767, 'his': 2138, 'record': 3537, 'inovio': 2329, 'launch': 2525, 'africa': 264, 'dem': 1291, 'üôü': 4996, 'dey': 1334, 'helped': 2110, '2003': 56, 'owners': 3126, 'bill': 593, 'melinda': 2767, 'gates': 1929, 'french': 1884, 'tv': 4460, 'fox': 1869, 'bruh': 710, 'pets': 3211, 'showed': 3871, 'coul': 1122, 'although': 329, 'scenarios': 3736, 'locking': 2624, 'italy': 2391, 'italian': 2390, 'coronaviruschina': 1086, 'wall': 4610, 'street': 4113, 'wisconsin': 4726, 'cina': 909, 'con': 1006, 'aren': 414, 'spraying': 4027, '30': 87, 'üèª': 4952, 'ôäô': 4928, 'mild': 2801, 'cold': 966, 'large': 2508, 'playing': 3258, 'scare': 3729, 'vice': 4563, 'compare': 996, 'curious': 1198, 'own': 3123, 'canadian': 766, 'preparing': 3348, 'mon': 2845, 'date': 1226, 'est': 1596, 'literally': 2600, 'dude': 1469, 'paul': 3177, 'locusts': 2627, 'mapping': 2710, 'counts': 1130, 'sharp': 3841, 'john': 2421, 'excellent': 1642, 'malaysia': 2691, 'near': 2933, 'adds': 236, 'editorial': 1507, 'besides': 578, 'chinacoronavirus': 893, 'sydney': 4209, 'bushfire': 737, 'smoke': 3944, 'aus': 470, 'recommendations': 3535, 'fucking': 1900, 'anti': 370, 'tells': 4253, 'journalists': 2436, 'wa': 4603, 'graphic': 2007, 'joke': 2429, 'entire': 1566, 'wiped': 4722, 'swear': 4202, 'google': 1987, 'maps': 2711, 'station': 4069, 'justice': 2444, 'mr': 2879, 'quarantining': 3458, 'illegal': 2240, 'university': 4501, 'midst': 2797, 'sending': 3799, 'rat': 3498, 'rats': 3502, 'surrounding': 4184, 'rn': 3661, 'hopefully': 2166, 'sanitizers': 3712, 'catching': 810, 'fool': 1837, 'originate': 3090, 'matters': 2737, 'different': 1354, 'voice': 4595, 'mirror': 2818, 'insane': 2330, 'financial': 1783, 'sparks': 3997, 'rest': 3621, 'worst': 4765, 'newspaper': 2959, 'random': 3494, 'comments': 982, 'suck': 4146, 'investigation': 2356, 'nsw': 3007, 'engineered': 1555, 'planned': 3247, 'vid': 4567, 'often': 3043, 'raw': 3504, 'wonder': 4740, 'ate': 461, 'recently': 3531, 'stupid': 4136, 'origins': 3093, 'dept': 1304, 'emails': 1532, 'revealed': 3638, 'release': 3567, 'journal': 2434, 'hotel': 2181, 'refuse': 3552, 'originally': 3089, 'claimed': 917, 'wasn': 4637, 'su': 4139, 'ya': 4803, 'played': 3256, 'iphone': 2363, 'theory': 4294, 'paper': 3149, 'piece': 3231, 'handling': 2053, 'ending': 1550, 'lyme': 2662, 'attempt': 466, 'stem': 4080, 'epochtimes': 1581, 'çì': 4912, 'çâ': 4908, 'zombie': 4841, 'apocalypse': 388, 'frightening': 1890, 'billgates': 594, 'foundation': 1866, 'funded': 1908, 'nothing': 2998, 'turning': 4458, 'room': 3672, 'investigate': 2354, 'congress': 1027, 'fights': 1771, '830': 169, '25': 78, 'described': 1306, 'agencies': 272, 'preparations': 3343, 'deal': 1242, 'taal': 4216, 'eruption': 1587, 'series': 3814, 'earthquakes': 1486, 'presents': 3353, 'slow': 3932, 'mass': 2727, 'marketing': 2721, 'heads': 2089, 'valley': 4545, 'those': 4310, 'detailed': 1317, 'breakdown': 675, 'dia': 1336, 'highest': 2127, 'took': 4361, 'wit': 4729, 'walking': 4609, 'tower': 4382, 'diario': 1343, 'season': 3768, 'trial': 4427, 'speaks': 4001, 'äôd': 4874, 'extra': 1686, 'nhk': 2963, '800': 164, 'precautions': 3330, 'healt': 2091, 'offers': 3035, 'traditional': 4393, 'medicine': 2758, 'eight': 1518, 'fact': 1700, 'timeline': 4341, 'campus': 763, 'safety': 3698, 'switch': 4208, 'modelo': 2835, 'los': 2642, 'tokyo': 4353, 'spurs': 4036, 'military': 2804, 'personnel': 3206, 'coughs': 1121, 'sneezes': 3949, 'largely': 2509, 'faster': 1727, 'climbs': 933, '630': 140, 'price': 3366, '24': 74, 'yellow': 4813, 'moves': 2875, 'orange': 3078, 'breakingnews': 679, 'üëâ': 4961, 'worldwide': 4756, 'risen': 3655, 'commission': 984, 'federal': 1747, 'court': 1134, 'ordering': 3081, 'throughout': 4327, 'excuse': 1645, 'towards': 4381, 'building': 723, 'bed': 552, 'crazy': 1156, 'kerala': 2453, 'trapped': 4407, 'wuh': 4782, 'tracking': 4388, 'infects': 2314, 'received': 3529, 'luxury': 2660, 'brands': 671, 'jersey': 2413, 'exposure': 1679, 'cbs': 823, 'women': 4738, 'race': 3475, 'firms': 1799, 'ëç': 4925, 'áçé': 4845, 'estimate': 1598, 'nasdaq': 2911, 'eye': 1688, 'earnings': 1483, 'gild': 1956, 'omg': 3054, 'weak': 4646, 'immune': 2254, 'feeling': 1751, 'tht': 4331, 'guy': 2035, 'estate': 1597, 'notice': 2999, 'revealing': 3639, 'isolation': 2380, 'thousands': 4315, 'evening': 1620, 'unconfirmed': 4483, 'sees': 3788, 'pls': 3265, 'cautious': 820, 'expands': 1652, 'lockdowns': 2622, 'plus': 3268, 'crash': 1155, 'spr': 4025, 'discussion': 1378, 'men': 2773, 'anymore': 379, 'embassy': 1533, 'finds': 1788, 'checks': 876, 'headlines': 2088, 'brought': 708, 'dozens': 1442, 'mike': 2799, 'esp': 1593, 'southeast': 3987, 'places': 3239, '35': 96, 'cells': 835, 'spikes': 4017, 'nobody': 2984, 'vehicles': 4555, 'russian': 3692, '26': 82, 'treating': 4421, 'proof': 3402, 'sing': 3904, 'humanity': 2203, 'increasing': 2282, 'value': 4546, 'burning': 733, 'half': 2046, 'supply': 4167, '14': 33, 'negative': 2941, 'ended': 1549, 'developments': 1331, 'disneyland': 1388, 'park': 3155, 'preventing': 3360, 'possibility': 3299, 'äòcoronavirus': 4864, 'product': 3387, 'delay': 1278, 'neo': 2944, 'hitting': 2142, 'determine': 1323, 'leaves': 2547, 'lying': 2661, 'deserted': 1308, 'sneezed': 3948, 'wired': 4724, 'whose': 4698, 'teachers': 4242, 'zealand': 4834, 'accelerate': 204, 'industry': 2304, 'escaped': 1591, 'website': 4656, '201': 58, 'bunch': 731, 'british': 699, 'resort': 3611, 'saturday': 3717, 'lethal': 2561, 'tired': 4347, 'self': 3789, 'shared': 3838, 'small': 3938, 'chaos': 865, 'strikes': 4119, '33': 94, 'starts': 4062, 'topnews': 4367, 'ga5oxyiqcm': 1920, 'compares': 998, 'reduce': 3547, 'disney': 1387, 'announced': 360, 'temporary': 4256, 'closure': 944, 'figure': 1772, 'higher': 2126, 'wuhancoronovirus': 4788, 'wuhanflu': 4789, '66': 145, 'list': 2596, 'suspended': 4195, 'retweet': 3635, 'moh': 2841, 'sound': 3980, 'bloody': 629, 'love': 2650, 'mounting': 2871, 'central': 841, 'appear': 394, 'beers': 556, 'land': 2503, 'governor': 2001, 'compared': 997, 'attention': 469, 'instead': 2335, '38': 103, 'nz': 3020, 'universities': 4500, 'among': 342, 'masses': 2729, 'h1n1': 2038, 'kingdom': 2469, 'dose': 1433, 'gp': 2003, 'masked': 2725, 'germs': 1948, 'guidelines': 2033, 'cnni': 955, 'concerned': 1009, 'lack': 2499, 'basic': 523, 'implications': 2265, 'raises': 3486, 'epicentre': 1574, 'suffer': 4150, 'denies': 1297, 'learn': 2542, 'unable': 4480, 'lower': 2654, 'üê': 4957, 'speed': 4009, '1000': 13, 'suffering': 4151, 'triggers': 4433, 'debate': 1249, 'magazine': 2670, 'ways': 4644, '0j2udyhyh5': 10, 'spent': 4015, 'crucial': 1179, 'arresting': 424, 'üî': 4971, 'ang': 351, 'ng': 2961, 'especially': 1594, 'issue': 2384, 'lt': 2656, 'super': 4161, 'enjoy': 1559, 'volcano': 4596, 'locust': 2626, 'west': 4673, 'roll': 3668, 'rumors': 3683, '3rd': 107, 'chill': 889, 'tf': 4274, 'ongoing': 3061, 'organisation': 3084, 'donation': 1427, 'cross': 1172, 'expects': 1657, 'klm': 2473, 'amidst': 341, 'petition': 3210, 'coronaviruses': 1087, 'coronoavirus': 1102, '900': 176, 'targeted': 4230, 'curb': 1193, 'aussie': 472, 'bet': 580, 'yen': 4814, 'worries': 4758, 'auspol': 471, 'fighting': 1770, 'thehill': 4286, 'him': 2132, 'yang': 4807, 'flew': 1811, 'rally': 3489, 'predicted': 3332, '65': 144, 'ran': 3493, 'feels': 1753, 'energy': 1553, 'bearish': 543, 'mood': 2857, 'force': 1844, 'af': 254, 'equipped': 1584, 'aware': 490, 'road': 3663, 'yeah': 4810, 'corpses': 1107, 'left': 2552, 'floor': 1818, 'lessons': 2559, 'learned': 2543, 'zone': 4843, 'battles': 531, 'al': 301, 'jazeera': 2411, 'bio': 600, 'weapon': 4648, 'thr': 4316, 'lost': 2647, 'cancellations': 771, 'exclusive': 1644, 'moment': 2843, 'programs': 3396, 'cepi': 845, 'soar': 3953, 'hey': 2119, 'available': 482, 'úö': 4937, 'infecting': 2310, 'closing': 943, 'weekly': 4661, 'style': 4138, 'ontario': 3064, 'causes': 817, 'appeared': 396, 'lists': 2599, 'solution': 3963, 'üö': 4997, 'sensitive': 3804, 'images': 2247, 'below': 573, 'sets': 3821, 'fine': 1789, 'everybody': 1626, 'till': 4338, 'contracts': 1059, 'blames': 619, 'complex': 1004, 'easier': 1489, 'suspicion': 4198, 'results': 3628, 'hour': 2185, 'quite': 3472, 'la': 2494, 'levels': 2566, 'glad': 1965, 'thousand': 4314, 'lady': 2500, 'hand': 2051, 'keeping': 2449, 'ag': 268, 'steve': 4084, 'helping': 2112, 'equities': 1585, 'leads': 2539, 'builds': 725, 'block': 623, 'touched': 4374, '63': 139, 'standard': 4052, 'seasonal': 3769, 'everywhere': 1630, 'nd': 2931, 'manufactured': 2703, 'destroy': 1314, 'üòñ': 4986, 'üå': 4946, 'gives': 1963, 'sky': 3921, 'remain': 3574, 'vigilant': 4573, 'illinois': 2241, 'verge': 4557, 'rush': 3690, 'hav': 2073, 'asking': 447, 'schools': 3740, 'act': 219, 'hosted': 2177, 'outb': 3101, 'deploys': 1302, 'assist': 453, 'hours': 2186, 'shift': 3846, 'approaches': 402, 'memes': 2772, 'fun': 1906, 'iranian': 2366, 'telling': 4252, 'duty': 1477, 'forbes': 1843, 'regarding': 3555, 'details': 1318, 'responsible': 3620, 'coincidence': 964, 'future': 1914, 'israel': 2381, 'ugh': 4472, 'built': 726, 'dc': 1234, 'hire': 2137, 'rights': 3651, 'address': 235, 'hard': 2062, 'keeps': 2450, 'prince': 3369, 'coverage': 1139, 'clinical': 935, 'behind': 565, 'looking': 2635, 'mumbai': 2885, 'ward': 4620, 'set': 3820, 'drops': 1462, 'freaked': 1879, 'flying': 1824, 'üòä': 4974, 'epidemiological': 1577, 'predictions': 3334, 'photo': 3222, 'young': 4826, 'liked': 2578, 'visitors': 4591, 'incubation': 2285, 'wu': 4780, 'respirator': 3614, 'port': 3293, 'services': 3818, 'lie': 2570, 'governments': 2000, 'es': 1588, '08': 8, 'thinking': 4305, 'celebrate': 832, 'phase': 3215, 'wi': 4702, 'question': 3463, 'enough': 1560, 'resources': 3612, 'phe_uk': 3216, 'crown': 1178, 'dropping': 1461, 'detained': 1319, 'europe': 1606, 'somebody': 3966, 'äú': 4882, 'bye': 749, 'above': 198, 'protecting': 3410, 'crossing': 1174, 'britain': 698, 'facemasks': 1694, 'beat': 544, 'pirbright': 3234, 'institute': 2336, 'spike': 4016, 'sales': 3703, 'falling': 1714, 'jump': 2439, 'species': 4004, 'jesus': 2414, 'enforce': 1554, 'greater': 2010, 'ab': 188, 'mine': 2809, 'write': 4772, 'wanted': 4616, 'bleach': 621, 'pure': 3442, 'si': 3879, 'dream': 1445, 'shoot': 3858, 'fatal': 1728, 'äòit': 4867, 'briton': 700, 'mention': 2775, 'üôà': 4992, 'shown': 3873, 'rip': 3653, 'expecting': 1656, 'helenbranswell': 2106, 'capable': 780, 'afraid': 263, 'metro': 2784, 'nih': 2975, 'discuss': 1376, 'emerged': 1535, 'fucked': 1898, 'manufacturer': 2704, 'coronavir': 1083, 'thelancet': 4288, 'lancet': 2502, 'wow': 4769, 'travelling': 4415, 'everyday': 1627, 'üåç': 4947, 'bbcbreaking': 536, 'cnnbrk': 954, 'goverment': 1997, 'bts': 714, 'awesome': 493, 'calm': 757, 'once': 3058, 'reason': 3524, 'approach': 401, 'breitbartnews': 686, 'class': 921, 'bay': 534, 'honestly': 2159, 'bull': 727, 'president': 3354, 'office': 3036, 'throw': 4328, 'isnt': 2375, 'ny': 3015, 'üôé': 4994, 'üòê': 4980, 'travelled': 4413, 'basically': 524, 'fall': 1713, 'imperial': 2263, 'haven': 2075, 'feed': 1748, 'virologist': 4578, '28': 84, 'msm': 2880, 'announce': 359, 'cured': 1196, 'discharged': 1369, 'discover': 1370, 'version': 4559, 'concept': 1007, 'support': 4168, 'pay': 3179, 'respect': 3613, 'huge': 2200, 'dat': 1224, 'allah': 313, 'parents': 3153, 'son': 3972, 'stated': 4065, '36': 99, 'il': 2238, 'germany': 1947, 'googlealerts': 1988, 'activity': 226, 'declared': 1259, 'ravaged': 3503, 'eyes': 1689, 'medic': 2754, '350': 97, 'nationals': 2915, 'headline': 2087, 'lord': 2641, 'wildfire': 4710, 'nc': 2923, 'visited': 4588, 'receive': 3528, 'email': 1531, 'wan': 4613, 'preventive': 3362, 'advice': 247, 'traffic': 4394, 'relation': 3566, 'üòí': 4983, 'outlets': 3109, 'coronarovirus': 1079, 'exceed': 1640, 'limits': 2588, 'sister': 3909, 'believed': 570, 'latin': 2521, 'caribbean': 789, 'howroute': 2192, 'political': 3282, 'pain': 3138, 'dare': 1220, 'tag': 4219, 'trust': 4442, 'containing': 1045, 'european': 1607, 'posts': 3308, 'losing': 2644, 'thoughts': 4313, 'sector': 3777, 'mortgage': 2865, 'epidemics': 1576, 'nbc': 2921, 'stream': 4112, 'úå': 4935, 'tourist': 4379, 'mobile': 2831, 'foo': 1835, 'predict': 3331, 'jackposobiec': 2400, 'dogs': 1415, 'hello': 2108, 'hotline': 2183, 'analysis': 347, 'niggas': 2972, 'director': 1360, 'stress': 4115, 'cuz': 1207, 'alarming': 304, 'donald': 1422, 'surgical': 4178, 'humor': 2206, 'stricken': 4116, 'mfs': 2788, 'meant': 2746, 'african': 265, 'focus': 1827, 'absolutely': 200, 'inevitable_et': 2306, 'indicates': 2295, '39': 105, 'alone': 322, 'researcher': 3605, 'predicts': 3335, '250': 79, 'ten': 4257, 'bless': 622, 'text': 4273, 'prof': 3390, 'bottom': 658, 'wor': 4743, 'vitamin': 4594, 'ur': 4518, 'senator': 3797, 'tom': 4357, 'cotton': 1115, 'consider': 1032, '00': 0, 'knew': 2474, 'boss': 653, 'features': 1741, 'ain': 286, 'bitch': 612, 'throwing': 4329, 'goodness': 1985, 'vs': 4601, 'äúwhat': 4894, 'planning': 3248, 'sunday': 4160, 'flown': 1821, 'chi': 880, 'husband': 2213, 'wants': 4618, 'users': 4532, 'comparing': 999, 'tweeted': 4463, 'finally': 1781, 'exposed': 1677, 'art': 432, 'cctv': 828, 'network': 2948, '05': 6, '40': 108, 'either': 1520, 'analyst': 348, 'upon': 4517, 'finish': 1790, 'nearly': 2934, 'deserve': 1309, 'chan': 856, 'ar': 408, 'biotech': 602, 'opened': 3069, 'finna': 1793, 'step': 4081, 'foot': 1838, 'profits': 3394, 'identify': 2228, 'verify': 4558, 'parts': 3160, 'push': 3444, 'swift': 4204, 'solid': 3960, 'fill': 1776, 'deadliest': 1240, 'victoria': 4566, 'germ': 1945, 'airplane': 293, 'drop': 1458, 'brother': 707, 'opinion': 3074, 'process': 3385, 'miss': 2820, 'wipe': 4721, 'myself': 2896, 'πç': 4999, '400': 109, 'track': 4386, 'assessment': 451, 'nejm': 2943, '700': 151, 'melbourne': 2766, 'newpaper24': 2954, 'fake': 1712, 'carrier': 792, 'nervous': 2946, '99': 184, 'part': 3156, 'diagnosis': 1338, 'kind': 2465, 'tbh': 4238, 'selloff': 3793, 'beach': 541, 'refuses': 3554, 'explainer': 1667, 'scmpgraphics': 3747, 'extreme': 1687, 'immediate': 2250, 'reminder': 3579, 'johns': 2422, 'hopkins': 2169, 'usually': 4536, 'bi': 587, 'construction': 1037, 'üòâ': 4973, 'sh': 3828, 'tl': 4348, 'ignorant': 2234, 'meme': 2771, 'mark': 2718, 'spelled': 4011, 'üòö': 4987, 'advance': 244, 'paranoid': 3152, 'soap': 3952, 'karma': 2446, 'dumb': 1471, 'foxbusiness': 1870, 'eradicated': 1586, 'facts': 1705, 'tuned': 4454, 'prior': 3372, 'appeal': 393, 'import': 2266, 'prayers': 3324, 'army': 420, 'knowledge': 2478, '48': 119, 'bullshit': 730, 'ends': 1551, 'claim': 916, 'fails': 1708, 'passed': 3163, 'checked': 874, 'tu': 4449, 'investment': 2358, 'strategists': 4110, 'citizen': 912, 'ncov19': 2925, 'crowd': 1175, 'fema': 1758, 'law': 2528, 'without': 4733, 'gloves': 1972, 'drericding': 1446, 'gone': 1981, 'criticism': 1171, 'touching': 4375, 'rid': 3647, 'wuflu': 4781, 'accepted': 208, 'thus': 4333, 'ev': 1608, 'strong': 4120, 'xhnews': 4799, 'eliminate': 1525, 'ni': 2965, 'window': 4716, 'boom': 647, 'urges': 4522, 'prisoner': 3376, 'slowing': 3934, 'explains': 1669, 'percentage': 3193, 'chine': 898, 'tr': 4385, 'reduces': 3548, 'rich': 3645, 'cell': 834, 'amazon': 333, 'packages': 3134, 'plz': 3269, 'anyway': 382, 'politics': 3285, 'necessary': 2937, 'crude': 1180, 'struggle': 4125, 'plunged': 3267, 'coro': 1074, 'òπô': 4927, 'joins': 2427, 'ugly': 4473, 'lied': 2571, 'active': 223, 'nationwide': 2917, 'leader': 2535, 'declares': 1260, 'fashion': 1725, 'proud': 3418, 'figures': 1773, 'spoke': 4019, 'xinjiang': 4801, 'versus': 4560, 'strike': 4118, 'loose': 2640, 'warfare': 4621, 'labs': 2498, 'largest': 2510, 'christian': 906, 'misinformation': 2819, 'studio': 4132, 'visits': 4592, 'ad': 230, 'easy': 1493, 'affecting': 259, 'somehow': 3967, 'korean': 2487, 'anywhere': 384, 'loved': 2651, 'zimbabwe': 4840, 'unprepared': 4507, 'present': 3352, 'provides': 3423, 'contracting': 1058, 'condition': 1014, 'battling': 532, 'toilet': 4352, 'school': 3739, 'who_europe': 4693, 'malaysian': 2692, 'tracker': 4387, 'tool': 4362, 'nuclear': 3008, 'wo': 4734, 'queensland': 3462, 'races': 3476, 'nurses': 3013, 'bodies': 639, 'suggest': 4152, 'biological': 601, 'liverpool': 2604, 'bottle': 657, 'tw': 4461, '170': 43, 'express': 1680, 'urgent': 4521, 'stigma': 4086, 'led': 2550, 'ccpchina': 827, 'whoever': 4696, 'continued': 1053, 'useless': 4531, 'trend': 4424, 'lassa': 2513, 'fever': 1761, 'girls': 1960, 'throat': 4325, 'sore': 3977, 'latestcomments': 2519, 'regards': 3556, 'individuals': 2297, 'protest': 3415, 'minute': 2816, 'carriers': 793, 'supposed': 4170, 'survival': 4187, 'surfaces': 4174, 'terrorism': 4266, 'bullish': 729, 'hiding': 2124, 'education': 1509, 'timesofindia': 4343, '5g': 133, 'clinic': 934, 'based': 521, 'disappeared': 1364, 'imagine': 2248, 'indicate': 2294, 'priority': 3374, 'facilities': 1697, 'úåô': 4936, 'specialist': 4003, 'evacuate': 1610, 'campaign': 761, 'teams': 4244, 'aussies': 473, 'fault': 1733, 'adding': 233, 'continue': 1052, 'occur': 3028, 'guard': 2027, 'moving': 2877, 'nowhere': 3005, 'sudden': 4148, 'normal': 2991, 'pa': 3130, 'owns': 3127, 'click': 928, 'üëà': 4959, 'background': 500, 'pressure': 3356, 'org': 3083, 'admits': 241, 'giving': 1964, 'sad': 3695, 'shall': 3833, 'monday': 2846, 'artist': 437, 'considering': 1034, 'status': 4074, 'containment': 1046, 'evacuation': 1614, 'haha': 2042, 'facebook': 1693, 'stupidity': 4137, 'highlights': 2128, 'deadlier': 1239, 'awareness': 491, 'ignore': 2235, 'ÿàÿüÿß': 4998, 'regime': 3557, 'impacts': 2260, 'weapons': 4651, 'chemical': 877, 'agent': 275, 'mo': 2830, 'fa': 1691, 'somewhere': 3971, 'broken': 706, 'answer': 366, 'battle': 530, 'faith': 1711, 'reality': 3519, 'fir': 1794, 'bali': 508, 'accused': 216, 'engineering': 1556, 'wondering': 4741, 'protests': 3417, 'ch': 848, 'desperate': 1312, 'headed': 2085, 'joking': 2431, 'member': 2769, 'meetings': 2764, 'accurate': 215, 'kindly': 2467, 'googling': 1990, 'charter': 871, 'explaining': 1668, 'casualty': 806, 'mutated': 2890, 'havoc': 2078, 'language': 2506, 'incurable': 2286, 'war': 4619, 'poor': 3288, 'though': 4311, 'experimental': 1662, 'coronaoutbreak': 1076, 'coronarvirus': 1081, 'äúthe': 4891, 'ordered': 3080, 'agreed': 280, 'digital': 1356, 'hidden': 2122, 'rep': 3588, 'terrifying': 4263, 'useful': 4530, 'smoking': 3945, 'afghanistan': 261, 'ha': 2039, 'üòå': 4975, '1918': 48, 'answers': 368, 'nebraska': 2936, 'radio': 3481, 'effects': 1513, 'du': 1466, 'te': 4240, 'blowing': 633, 'exact': 1636, 'senate': 3796, 'bigger': 591, 'corner': 1073, 'board': 638, 'tracks': 4389, '60': 135, 'wil': 4707, 'queen': 3461, 'massive': 2730, 'êó': 4921, 'minutes': 2817, 'dec': 1251, '31': 91, 'forum': 1863, 'speaking': 4000, 'recover': 3540, 'hmm': 2145, 'camps': 762, 'thru': 4330, 'zombies': 4842, 'äògrave': 4865, 'except': 1643, 'deleted': 1283, 'postponed': 3306, 'secpompeo': 3774, 'managing': 2699, 'arizona': 417, '95': 180, 'fl': 1805, 'games': 1925, 'icu': 2221, 'presumptive': 3357, '42': 111, 'listen': 2597, 'globally': 1969, 'êñ': 4920, 'çå': 4911, 'stores': 4099, 'exposes': 1678, 'core': 1072, 'flaws': 1808, 'governance': 1998, 'shaking': 3832, 'pass': 3162, 'ambulance': 336, 'chief': 884, 'choice': 902, 'scenario': 3735, 'recreate': 3545, 'managed': 2697, 'sneezing': 3950, 'action': 221, 'tried': 4429, 'blood': 628, 'history': 2139, 'peopl': 3189, 'administration': 239, 'material': 2734, 'olympics': 3052, 'door': 1431, 'space': 3991, 'sat': 3716, 'interest': 2344, 'jama': 2404, 'fiweh': 1804, 'epidemiologist': 1578, 'blue': 635, '550': 126, 'effective': 1512, 'oann': 3021, 'reaction': 3512, 'react': 3511, 'swiftly': 4205, 'century': 843, 'studies': 4131, 'posting': 3304, 'credible': 1162, 'dad': 1211, 'abroad': 199, 'evacuates': 1612, 'accelerates': 205, 'telegraph': 4250, 'beating': 545, 'holding': 2151, 'daughter': 1228, 'chat': 872, 'view': 4571, 'topic': 4365, 'detection': 1322, 'earth': 1484, 'ft': 1895, 'banks': 513, 'tim': 4339, 'cook': 1066, 'apple': 400, 'donate': 1423, 'relief': 3572, 'üáæ': 4943, 'problems': 3384, 'provinces': 3425, 'raise': 3484, 'wuhanlockdown': 4790, 'seeking': 3783, 'happen': 2057, 'carbon': 784, 'ëá': 4924, 'âü': 4851, 'áä': 4844, '56': 127, 'tryna': 4447, 'recovered': 3541, 'moderna': 2839, 'gracias': 2004, 'asap': 439, 'numbers': 3011, 'smith': 3943, '80': 163, 'trudeau': 4438, 'buildings': 724, 'san': 3709, 'francisco': 1878, 'hurts': 2212, 'novelcoronavirus': 3002, 'agency': 273, 'laughing': 2524, 'sign': 3889, 'crush': 1185, 'hotels': 2182, 'faces': 1695, 'nigga': 2971, 'coughed': 1119, 'stand': 4051, 'maga': 2669, 'feb': 1743, 'opportunity': 3075, 'credit': 1163, 'southkorea': 3989, 'ke': 2447, 'escape': 1590, 'fortune': 1862, 'immunity': 2255, 'buying': 746, 'propaganda': 3403, 'host': 2176, 'prediction': 3333, 'deep': 1267, '52': 124, 'agree': 279, 'honest': 2158, 'cute': 1204, 'honey': 2160, 'dashboard': 1223, 'thinks': 4306, 'vast': 4551, 'majority': 2682, 'wh': 4677, 'plainly': 3242, 'appears': 398, 'france24': 1876, 'donating': 1426, 'comment': 981, 'western': 4675, 'informative': 2322, 'fans': 1721, 'attending': 468, 'seoul': 3809, 'tha': 4276, 'advises': 251, 'locals': 2617, 'solve': 3964, 'climbing': 932, 'pictures': 3230, 'internet': 2349, 'senior': 3801, 'worth': 4766, 'braces': 668, 'äòvery': 4870, 'strange': 4107, 'praises': 3320, 'evacuated': 1611, 'expect': 1653, 'spit': 4018, 'breathe': 684, 'gen': 1937, 'bu': 717, 'pakistani': 3141, 'buses': 735, 'kuwait': 2493, 'üèº': 4953, 'overheard': 3118, 'áô': 4847, 'tighten': 4335, 'protective': 3412, 'disasters': 1367, 'willing': 4713, 'üòë': 4981, 'empty': 1546, 'match': 2731, 'crypto': 1187, 'binance': 599, 'pledges': 3262, 'quicker': 3467, 'proven': 3419, 'society': 3956, 'itv': 2396, 'elderly': 1522, 'systems': 4214, 'invented': 2353, 'swiss': 4207, 'horrible': 2170, 'oc': 3026, 'üß': 4938, 'shouldn': 3869, 'feelings': 1752, 'average': 483, 'oz': 3128, 'ability': 194, 'football': 1840, 'matches': 2732, 'sport': 4022, 'single': 3906, 'registers': 3561, 'individual': 2296, 'xenophobic': 4798, 'measles': 2748, 'winning': 4719, 'league': 2540, 'praying': 3326, 'modern': 2838, 'genuinely': 1944, 'return': 3631, 'bacteria': 501, 'evaluated': 1618, 'turned': 4457, 'awful': 494, 'storm': 4101, 'exists': 1648, 'communism': 990, 'struggles': 4126, 'brief': 689, 'confident': 1020, 'awards': 489, 'ajenglish': 299, 'complete': 1002, 'ani': 356, 'nation': 2913, 'adult': 243, 'scottmorrisonmp': 3752, 'steal': 4078, 'weaponize': 4649, 'challenge': 853, 'winter': 4720, 'fully': 1905, 'problem': 3383, 'üèø': 4955, 'üè': 4951, 'pose': 3295, 'fyi': 1918, 'studying': 4134, 'miles': 2802, 'aside': 444, 'unfortunately': 4492, 'direct': 1358, 'result': 3627, 'importing': 2269, 'realize': 3520, 'amongst': 343, 'per': 3191, 'strategies': 4108, 'pro': 3381, 'sequencing': 3813, 'experience': 1659, 'capacity': 781, 'malay': 2690, 'tokyo2020': 4354, 'author': 477, 'actual': 227, 'estimated': 1599, 'tds': 4239, 'father': 1731, 'answered': 367, 'camp': 760, 'democrats': 1294, 'imp': 2256, 'lysol': 2663, 'casts': 805, 'doubt': 1437, 'danger': 1218, 'production': 3388, 'aapl': 187, 'trading': 4392, 'newsletter': 2958, 'kept': 2452, 'yea': 4809, 'delivers': 1288, '76': 158, 'district': 1398, 'sho': 3854, 'fuckin': 1899, 'dark': 1221, 'lately': 2516, 'vote': 4599, 'eu': 1605, 'connecticut': 1029, 'popular': 3290, 'allows': 319, 'premier': 3340, 'worsens': 4763, 'ivory': 2398, 'ko': 2481, 'scarier': 3732, 'announcement': 361, 'schedule': 3738, 'mea': 2742, 'poll': 3286, 'management': 2698, 'recovery': 3544, 'cruise': 1181, 'extend': 1683, 'festival': 1760, 'fallout': 1715, 'tesla': 4267, 'bioweapon': 604, 'increasingly': 2283, 'fatality': 1730, '83': 168, 'publishes': 3434, 'jones': 2432, 'wrote': 4777, 'trigger': 4431, 'alcohol': 305, 'impossible': 2272, 'spending': 4014, 'ctv': 1191, 'aka': 300, 'topbuzz': 4364, 'permanent': 3200, 'soo': 3975, 'documented': 1410, 'becoming': 551, 'gas': 1928, 'sake': 3701, 'performance': 3195, 'athletics': 462, 'championships': 855, 'ca': 750, 'hypochondriac': 2216, 'francis': 1877, 'prayer': 3323, 'ischinar': 2372, 'sanitizer': 3711, 'transmit': 4402, 'methods': 2783, 'pak': 3139, 'content': 1050, 'bars': 519, 'intensify': 2341, 'newsfusion': 2957, 'hoaxes': 2149, 'theories': 4293, 'stone': 4093, 'interactive': 2343, 'coronaviruscanada': 1085, '29': 85, 'solomonyue': 3962, 'nose': 2994, 'frontline': 1894, 'tariff': 4233, 'agents': 276, 'stats': 4073, 'helpful': 2111, 'doesnt': 1413, 'continuing': 1055, 'drugs': 1465, 'soars': 3954, 'angeles': 352, 'massachusetts': 2728, 'pdchina': 3181, 'featuring': 1742, 'skynews': 3922, 'consume': 1038, 'role': 3667, 'virginia': 4577, 'cent': 838, 'property': 3406, 'michigan': 2793, 'items': 2393, '2019_ncov': 64, 'chen': 878, 'drug': 1464, 'kobe': 2483, 'bryant': 711, 'evacuating': 1613, 'remove': 3582, 'abbvie': 190, 'coronavirusfrance': 1089, 'coronaviruswuhan': 1098, 'peace': 3183, 'realized': 3521, 'spelling': 4012, 'episode': 1580, 'biden': 589, 'greatest': 2011, 'distribution': 1397, 'maricopa': 2717, 'targets': 4232, 'passing': 3167, 'üèω': 4956, 'expanding': 1651, 'sucks': 4147, 'latimes': 2520, 'fires': 1797, 'watched': 4639, 'outta': 3114, 'äúif': 4889, 'assess': 450, 'job': 2419, '5th': 134, 'sweden': 4203, 'lies': 2572, 'blockchain': 624, 'whistleblower': 4688, 'vegas': 4554, 'lose': 2643, 'brink': 696, 'staying': 4076, 'couldn': 1124, 'exceeds': 1641, 'mate': 2733, 'worlds': 4755, 'airlift': 290, 'sentence': 3806, 'hongkongfp': 2163, 'sense': 3802, 'idiots': 2230, 'äúwe': 4893, 'pharmaceutical': 3214, 'secret': 3775, 'anonymous': 364, 'missing': 2822, 'themselves': 4291, 'economics': 1499, 'apart': 386, 'discovery': 1373, 'harder': 2063, 'asu': 458, 'stat': 4063, 'christmas': 907, 'island': 2373, 'apartment': 387, 'iraq': 2368, 'silent': 3895, 'convinced': 1065, 'alabama': 302, 'stopping': 4096, 'arrive': 428, 'papers': 3150, 'respond': 3616, 'unexpected': 4491, 'recap': 3527, 'funding': 1909, 'card': 785, 'yahoo': 4804, 'fda': 1735, 'cleared': 926, 'approved': 404, 'meets': 2765, 'protects': 3413, 'specifically': 4006, 'ftse': 1896, 'protesters': 3416, 'jumped': 2440, 'followed': 1832, 'supplies': 4166, 'fragile': 1874, 'cool': 1068, 'tally': 4228, 'collapse': 967, 'power': 3314, 'cryptocurrency': 1188, 'understanding': 4489, 'mapped': 2709, 'åø': 4905, 'gnews202064': 1974, 'challenges': 854, 'chris': 904, 'barely': 518, 'heat': 2101, '46': 118, 'degrees': 1276, 'broke': 705, 'children': 888, 'mins': 2815, 'owner': 3125, 'lobster': 2615, 'michael': 2792, 'impacted': 2258, 'delta': 1290, 'changes': 862, 'ùì': 4931, 'edition': 1506, 'holds': 2152, 'bush': 736, 'tax': 4236, 'tiktok': 4337, 'worldnews': 4754, 'üåé': 4949, 'attack': 463, 'hosts': 2178, 'steam': 4079, 'oms': 3055, '161': 41, 'usd': 4527, 'fed': 1746, 'yuan': 4832, 'nj': 2982, 'survive': 4188, 'weather': 4654, 'damage': 1215, 'wuhanoutbreak': 4791, 'charity': 869, 'wales': 4607, 'scrambles': 3754, 'evac': 1609, 'carried': 791, 'strict': 4117, 'booked': 646, 'harvard': 2067, 'po': 3273, 'strategist': 4109, 'site': 3911, 'speak': 3998, 'lmfao': 2610, 'perhaps': 3196, 'priorities': 3373, 'burn': 732, 'age': 271, 'äîand': 4861, 'anybody': 378, 'rna': 3662, 'gene': 1938, 'tough': 4376, 'suicide': 4154, 'members': 2770, 'bbcnews': 537, 'brits': 702, 'picture': 3229, 'flooding': 1816, 'çà': 4907, 'meltdown': 2768, 'notes': 2997, 'biowarfare': 603, 'indians': 2293, 'bushfires': 738, 'üëå': 4963, 'confidence': 1019, 'classes': 922, 'manila': 2702, 'survey': 4186, 'interviewed': 2351, 'statistics': 4071, 'ambassador': 334, 'heartbreaking': 2099, 'bloomberg': 630, 'implemented': 2264, 'loss': 2645, 'chang': 859, 'assets': 452, '81': 166, 'antiviral': 373, 'sports': 4023, 'britons': 701, 'shocking': 3857, 'hurt': 2210, 'reviews': 3644, 'imports': 2270, 'jakarta': 2403, 'sink': 3907, 'havens': 2076, 'hint': 2136, 'pharma': 3213, 'surges': 4177, 'forgot': 1858, 'account': 213, 'alright': 326, 'sensex': 3803, 'sigh': 3887, 'hoax': 2148, 'accept': 207, 'tumble': 4452, '3000': 89, 'spark': 3995, 'distress': 1396, 'ino': 2328, 'catastrophe': 808, 'ideas': 2225, 'bombshell': 642, 'botswana': 656, 'sight': 3888, '220': 72, 'mor': 2859, 'cambodia': 758, 'tip': 4344, 'saving': 3720, 'xrp': 4802, 'meds': 2761, 'asians': 443, 'influence': 2316, 'wide': 4703, 'spain': 3992, 'fleeing': 1810, 'philippine': 3218, 'attacks': 465, 'mayor': 2740, 'products': 3389, 'trends': 4426, 'rates': 3500, 'bangkok': 510, 'ethiopia': 1603, 'hai': 2044, 'ye': 4808, 'paying': 3180, 'ed': 1503, 'manage': 2696, 'evacuations': 1615, 'cbsnews': 824, 'refused': 3553, 'dutch': 1475, 'silver': 3896, 'hype': 2215, 'seventh': 3823, '78': 160, 'false': 1717, 'accounts': 214, 'whosearo': 4699, 'pahowho': 3136, 'whoemro': 4695, 'whoafro': 4694, 'essential': 1595, 'slide': 3929, 'politicians': 3283, 'blaming': 620, 'icymi': 2222, 'remains': 3575, 'dip': 1357, 'bought': 659, 'iowa': 2362, 'partners': 3159, 'spokesman': 4020, 'female': 1759, '44': 114, 'projects': 3399, 'jobs': 2420, 'assistance': 454, 'sri': 4042, 'lanka': 2507, '43': 113, 'üßê': 4939, 'quiet': 3470, 'srilanka': 4043, '73': 156, 'employees': 1543, 'stranded': 4106, 'trips': 4436, 'q1': 3448, 'pending': 3185, 'letting': 2564, 'fund': 1907, 'along': 323, 'preparedness': 3346, 'thi': 4300, 'chart': 870, 'charge': 867, 'temporarily': 4255, 'statnews': 4072, 'blow': 631, 'bond': 643, 'arrests': 425, 'activist': 224, 'cleaning': 924, 'win': 4714, 'ensure': 1561, 'asymptomatic': 459, 'brown': 709, 'views': 4572, 'fuel': 1901, 'gop': 1991, '110': 19, 'auto': 481, 'stage': 4048, 'authority': 480, 'ticket': 4334, 'updayuk': 4516, 'luck': 2657, 'laughed': 2523, 'reducing': 3549, 'path': 3173, 'store': 4098, 'triggered': 4432, 'prompts': 3401, 'scramble': 3753, 'records': 3539, 'continent': 1051, 'relate': 3564, 'kid': 2457, 'uni': 4493, 'unit': 4497, 'reasons': 3525, 'scam': 3727, 'twice': 4465, 'floods': 1817, 'sentiment': 3807, 'op': 3066, 'former': 1860, 'skip': 3920, 'btw': 716, 'physicians': 3224, 'bear': 542, 'urge': 4519, 'spx': 4038, 'medicines': 2759, 'dropped': 1460, 'rallies': 3488, 'citing': 911, 'sectors': 3778, 'foxconn': 1871, 'samsung': 3708, 'factories': 1702, 'lil': 2582, 'quit': 3471, 'racing': 3477, 'incoming': 2278, 'evacuees': 1617, 'habits': 2040, 'program': 3395, 'mainstream': 2678, 'vp': 4600, 'election': 1523, 'virtual': 4580, 'slump': 3937, '68': 146, 'brave': 672, 'pregnant': 3338, 'beds': 553, '19': 47, 'leaders': 2536, 'bank': 512, 'industries': 2303, 'forefront': 1851, 'professional': 3391, '61': 138, '45': 116, 'reporters': 3596, 'commodity': 988, 'businesses': 740, 'eh': 1517, 'driven': 1451, 'crying': 1186, 'hat': 2071, 'batch': 526, 'yield': 4819, 'justintrudeau': 2445, 'caucus': 813, 'legal': 2554, 'consequences': 1031, 'shipped': 3850, 'fe': 1736, 'affairs': 256, 'hide': 2123, 'morgan': 2861, 'plasma': 3252, 'solidarity': 3961, 'windows': 4717, 'larry': 2511, 'book': 645, 'delaying': 1280, '32': 92, 'canceled': 769, 'discusses': 1377, 'sustained': 4200, 'slip': 3931, 'panicking': 3148, 'shortage': 3863, '106': 15, 'critical': 1170, 'hashtag': 2069, 'missed': 2821, 'disgusting': 1382, 'undergo': 4485, 'runs': 3687, 'speakerpelosi': 3999, 'destroying': 1315, 'ct': 1190, 'trouble': 4437, 'nyc': 3016, 'floating': 1815, 'cos': 1111, 'smartphone': 3941, 'florida': 1819, 'claiming': 918, 'spot': 4024, '53': 125, 'gmt': 1973, 'peak': 3184, 'areas': 413, 'experienced': 1660, 'üåè': 4948, 'icao': 2219, 'independent': 2289, 'significant': 3891, 'deemed': 1266, 'issuing': 2387, 'visas': 4586, 'suspicious': 4199, 'plenty': 3263, 'üòì': 4982, 'éª': 4915, 'pizza': 3236, 'persons': 3207, 'delhi': 1284, 'pti': 3430, 'tightens': 4336, 'qatar': 3451, 'standards': 4053, 'worl': 4752, 'recommends': 3536, 'outbre': 3103, 'chinatown': 895, 'tops': 4368, 'spray': 4026, 'plunge': 3266, 'rule': 3680, 'chinadaily': 894, 'refer': 3550, 'bavaria': 533, 'marc': 2714, 'siegel': 3885, 'example': 1639, '2000': 54, 'unlikely': 4504, 'declines': 1263, 'worked': 4747, 'genius': 1941, 'yields': 4820, 'lka': 2607, 'lifts': 2575, 'stanley': 4056, 'environment': 1569, 'sam': 3704, 'indeed': 2287, 'supermarket': 4163, 'shopping': 3860, 'placed': 3238, 'üëç': 4964, 'deny': 1300, 'weaponized': 4650, 'tackling': 4218, 'allegedly': 315, 'restaurant': 3623, 'shaheen': 3830, 'bagh': 506, 'crowds': 1177, 'changing': 863, 'fit': 1802, 'han': 2050, 'stole': 4092, 'straight': 4103, 'breath': 683, 'cruises': 1182, 'cancelling': 773, 'surpasses': 4180, 'educate': 1508, 'disrupt': 1389, 'nikkei': 2977, 'coronarvirues': 1080, 'tune': 4453, 'richard': 3646, 'wegen': 4663, 'depopulation': 1303, 'agenda': 274, 'mental': 2774, 'therefore': 4297, 'res': 3601, 'ship': 3847, 'skinnergj': 3919, 'benefit': 575, 'angle': 354, 'nairobi': 2905, 'shots': 3867, 'aviation': 485, 'drivers': 1453, 'coronavirusuk': 1094, 'imported': 2268, 'homes': 2157, 'driver': 1452, 'colleagues': 970, 'duque': 1473, 'onboard': 3057, 'bhi': 586, 'forecast': 1849, 'voluntary': 4597, 'links': 2595, 'operations': 3073, '96': 181, 'characteristics': 866, 'edges': 1505, 'obvious': 3024, 'coronavirusindia': 1090, 'held': 2105, 'comparison': 1000, 'repo': 3591, 'äå': 4855, 'furious': 1912, 'flag': 1806, 'birth': 609, 'cna': 950, 'weighs': 4665, 'dollars': 1419, 'cuts': 1205, 'cou': 1117, 'diego': 1351, 'sec': 3771, 'approves': 405, 'slight': 3930, '150': 38, 'groups': 2017, '2009': 57, 'foreigners': 1853, 'regional': 3559, 'vector': 4553, 'chicken': 882, 'narrative': 2909, 'amount': 344, 'proves': 3420, 'badly': 504, 'suit': 4155, 'airpods': 294, 'accidentally': 211, 'designed': 1311, 'domestic': 1420, 'union': 4494, 'involved': 2361, 'cope': 1069, 'survivor': 4189, 'chain': 849, 'confusion': 1026, 'woes': 4735, 'suppliers': 4165, 'mode': 2832, 'remote': 3581, 'prepping': 3351, 'wise': 4727, 'outlet': 3108, 'tens': 4259, 'sends': 3800, 'letter': 2563, 'liang': 2569, 'natural': 2918, 'starbucks': 4058, 'riots': 3652, 'dean': 1245, 'ride': 3648, 'revenue': 3641, '3m': 106, 'denmark': 1299, 'potentially': 3311, 'hhs': 2120, 'maker': 2684, 'citizentvkenya': 914, 'miami': 2790, 'judge': 2438, 'ohio': 3045, 'bangladesh': 511, 'onto': 3065, 'caa': 751, 'hampshire': 2049, 'determined': 1324, 'spend': 4013, 'delays': 1281, 'isolating': 2379, 'advanced': 245, 'labour': 2497, 'financialtimes': 1784, 'kits': 2472, 'iphones': 2364, 'universal': 4499, 'mandatory': 2701, 'criminal': 1167, 'gdp': 1935, 'immigration': 2252, 'üëè': 4965, 'whistleblowers': 4689, 'donated': 1424, 'aggressive': 277, 'drive': 1450, 'drives': 1454, 'ally': 320, 'cor': 1071, 'projected': 3398, 'heavy': 2103, 'äúa': 4883, 'male': 2693, 'cancer': 775, 'employee': 1542, 'columbia': 972, 'doc': 1403, 'foothold': 1841, 'neither': 2942, 'controlling': 1062, 'roni': 3671, 'caryn': 798, 'denise': 1298, 'grady': 2005, 'birmingham': 608, 'looked': 2634, 'knock': 2475, 'demands': 1293, 'cartoon': 797, 'request': 3600, 'hill': 2131, 'ta': 4215, 'creates': 1159, 'laugh': 2522, 'water': 4641, 'spooks': 4021, 'whats': 4680, 'target': 4229, 'azar': 495, 'describes': 1307, 'activities': 225, 'lawrence': 2530, 'journey': 2437, 'mesa': 2778, 'initial': 2325, 'alive': 311, 'em': 1530, 'loveisland': 2652, 'irrational': 2370, 'listening': 2598, 'artificially': 436, 'commissioner': 985, 'crack': 1152, 'hawaii': 2079, 'honolulu': 2164, 'robots': 3665, 'deliver': 1286, 'regular': 3562, 'risky': 3660, 'grown': 2020, 'breakthrough': 682, 'detroit': 1325, 'provided': 3422, 'blocks': 626, 'opens': 3071, '840': 170, 'powerful': 3316, 'recommend': 3534, 'homeless': 2156, 'deliberately': 1285, 'inevitable': 2305, 'bound': 660, 'arrivals': 427, 'corruption': 1110, 'shortages': 3864, '131': 27, 'cat': 807, 'various': 4550, 'businessman': 741, '974': 183, '132': 28, 'cares': 788, 'samples': 3707, 'deals': 1244, 'whistle': 4687, 'sale': 3702, 'discrimination': 1375, 'jet': 2415, 'flies': 1812, 'äúhow': 4887, 'suppose': 4169, 'johnson': 2424, 'policy': 3281, 'dick': 1345, 'superbowl': 4162, 'valentine': 4543, 'repatriation': 3590, 'bathroom': 528, 'arrested': 423, 'explore': 1672, 'reliable': 3571, 'äúi': 4888, 'successfully': 4144, 'peo': 3187, 'bowl': 662, '37': 102, 'develops': 1332, 'debunked': 1250, 'disinformation': 1386, 'hindi': 2134, 'reserve': 3607, 'racists': 3480, '2012': 60, 'israeli': 2382, 'weight': 4666, 'bts_twt': 715, 'leaked': 2541, 'main': 2675, 'sf': 3827, 'urine': 4523, 'legitimate': 2556, 'medical_xpress': 2756, 'offering': 3034, 'police': 3280, 'cow': 1148, 'dung': 1472, 'pheic': 3217, 'bubble': 718, 'conversation': 1064, 'bnodesk': 637, 'alex': 308, 'outbr': 3102, 'final': 1780, 'briefly': 691, 'ùóô': 4932, 'ncov2020': 2927, 'med': 2752, 'indonesian': 2299, 'searches': 3767, 'airways': 297, 'ää': 4854, 'êú': 4923, 'âûãëç': 4850, 'âè': 4848, 'armed': 419, 'uses': 4533, 'thin': 4301, 'retail': 3630, 'stall': 4050, 'david': 1229, 'expectations': 1654, 'quarter': 3459, 'ministers': 2813, 'flow': 1820, 'locations': 2619, 'feedly': 1749, 'êô': 4922, 'üòû': 4989, 'prisonplanet': 3377, 'includes': 2276, 'bjp': 615, 'rules': 3681, 'thai': 4277, 'disinfect': 1383, 'äºô': 4852, 'operation': 3072, 'transfer': 4399, 'heal': 2090, 'base': 520, 'freedom': 1882, '97': 182, 'pt': 3429, 'mini': 2810, 'mp': 2878, 'mum': 2884, 'forcing': 1848, 'constantly': 1036, 'recession': 3532, 'vir': 4575, 'úä': 4934, 'mission': 2823, 'isolate': 2376, '2002': 55, 'covered': 1140, 'sample': 3706, 'piss': 3235, 'surpass': 4179, 'prison': 3375, 'overtake': 3121, 'outrage': 3112, 'äòno': 4868, 'chances': 858, 'manufacturing': 2706, 'abuja': 202, 'cash': 802, 'modi': 2840, 'ji': 2416, 'gauge': 1932, 'csse': 1189, 'billions': 597, 'pe': 3182, 'jack': 2399, 'coronaravirus': 1077, 'droplet': 1459, 'viruscorona': 4583, 'leg': 2553, 'sk': 3917, 'mixed': 2828, 'panel': 3144, 'bacterial': 502, 'closures': 945, 'spell': 4010, 'closer': 941, 'eminem': 1539, 'breathing': 685, 'defeat': 1269, 'facing': 1699, 'permission': 3201, 'tsla': 4448, 'car': 783, 'deliveries': 1287, 'surpassing': 4181, 'rt_com': 3679, 'wrapup': 4771, 'mongering': 2849, 'fellow': 1756, 'perfect': 3194, 'coronavirusupdates': 1095, 'cybersecurity': 1209, 'ridiculous': 3649, 'roger': 3666, 'opec': 3067, 'analysts': 349, 'billionaire': 596, 'donates': 1425, 'tariffs': 4234, 'moon': 2858, 'commodities': 987, 'compelling': 1001, 'bag': 505, 'tragic': 4395, 'truly': 4440, 'suspending': 4196, 'believing': 572, 'journalist': 2435, 'accuses': 217, 'responds': 3617, 'zhang': 4837, 'removing': 3585, 'aid': 284, 'experiment': 1661, 'äúthis': 4892, 'disaster': 1366, 'believes': 571, 'coronovirusoutbreak': 1105, 'refund': 3551, 'abuse': 203, 'truths': 4444, 'adverse': 246, 'scrutiny': 3759, '240': 75, 'chairman': 851, 'powell': 3313, 'web': 4655, 'dis': 1362, 'clorox': 937, 'disinfecting': 1385, 'wipes': 4723, 'fauci': 1732, 'disruption': 1391, 'dirty': 1361, 'discovers': 1372, 'failure': 1709, '6th': 149, 'families': 1718, 'church': 908, 'disruptions': 1392, 'coworker': 1149, 'psa': 3428, 'santa': 3713, 'clara': 920, 'äìinfected': 4859, 'elizabeth': 1527, 'warren': 4629, 'sellers': 3791, 'scmp': 3746, 'sentomcotton': 3808, 'hoarders': 2147, 'progress': 3397, 'fearing': 1739, 'offices': 3039, '8th': 174, 'aboard': 196, 'service': 3817, 'mix': 2827, 'null': 3009, 'fired': 1796, 'äò': 4863, 'kudlow': 2490, 'explode': 1670, 'dictatorship': 1346, 'wuhanacuterespiratorysyndrome': 4784, 'makeshift': 2687, 'england': 1557, 'economies': 1500, 'chains': 850, 'launched': 2526, 'additional': 234, 'dua': 1467, 'deeply': 1268, 'gym': 2037, 'structure': 4124, 'writes': 4773, 'entirely': 1567, 'raised': 3485, 'hurting': 2211, 'newsfeed': 2956, 'diary': 1344, 'fansigns': 1722, 'allowed': 318, 'harm': 2065, 'prophet': 3408, '136': 30, 'eaten': 1495, 'currency': 1199, 'charges': 868, 'sig': 3886, 'code': 961, 'duterte': 1476, 'focuses': 1829, 'fm': 1825, 'formula': 1861, 'swan': 4201, 'forward': 1864, 'lawmakers': 2529, 'coronaviruswho': 1097, 'hea': 2082, 'ki': 2456, 'ne': 2932, 'plea': 3260, 'faqs': 1723, '2011': 59, 'spare': 3994, 'filipino': 1774, 'warm': 4622, 'friendly': 1888, 'fair': 1710, 'plant': 3250, 'giants': 1955, 'detail': 1316, 'sen': 3795, 'bath': 527, 'incredible': 2284, 'nintendo': 2979, 'gatewaypundit': 1930, 'king': 2468, 'overcome': 3117, 'coz': 1150, 'ukraine': 4477, 'insurance': 2337, 'evolution': 1633, 'herbal': 2116, 'prevents': 3363, 'mess': 2779, 'fi': 1766, 'washingtonpost': 4636, 'maintain': 2679, 'liner': 2590, 'ethiopian': 1604, 'cgtnofficial': 847, 'tencent': 4258, 'epi': 1572, 'dems': 1295, 'gatherings': 1931, 'ross': 3674, 'metrouk': 2785, 'infe': 2307, 'cc': 825, 'shipments': 3849, 'decrease': 1264, 'asean': 440, 'indefinitely': 2288, 'creator': 1161, 'id': 2223, 'defends': 1271, 'docks': 1407, 'slowdown': 3933, 'treasury': 4418, 'smart': 3939, 'travels': 4416, 'jail': 2402, 'üó': 4991, 'expo': 1673, 'ôø': 4930, 'wilbur': 4708, 'access': 209, '75': 157, 'intelligence': 2340, 'dollar': 1418, 'ports': 3294, 'shipping': 3851, 'dalio': 1214, 'bhai': 585, 'cruiseship': 1183, 'communities': 992, 'corporate': 1106, 'launches': 2527, 'underground': 4486, 'eastern': 1492, 'standwithhongkong': 4055, 'huoshenshan': 2209, 'underreporting': 4487, 'docked': 1405, 'ben': 574, 'visa': 4585, 'likes': 2581, 'facial': 1696, 'adviser': 250, 'method': 2782, 'plot': 3264, 'chernobyl': 879, 'enters': 1565, 'shocked': 3856, 'occurred': 3029, 'blocked': 625, 'beautiful': 546, 'facility': 1698, 'wirral': 4725, 'misterantibully': 2825, 'emotet': 1541, 'malware': 2694, 'whilst': 4686, 'therapy': 4295, 'sea': 3762, 'boris': 651, 'bonds': 644, 'situations': 3913, 'controls': 1063, 'wuhancoronavirusoutbreak': 4787, 'acute': 229, 'alternative': 328, 'manufacturers': 2705, 'qu': 3454, '171': 44, 'wars': 4630, 'purchase': 3441, 'sit': 3910, 'hardest': 2064, 'instagram': 2334, 'bin': 598, 'officers': 3038, 'insider': 2333, 'recoveries': 3542, 'simpsons': 3900, 'ep': 1571, 'cutting': 1206, 'aw': 488, 'pmi': 3271, 'climatechange': 930, 'territory': 4264, 'rome': 3670, 'worker': 4748, 'italia': 2389, 'marked': 2719, 'protein': 3414, '09': 9, 'ncov_2019': 2928, 'genocide': 1942, 'mill': 2805, '20k': 67, 'theeconomist': 4285, 'royal': 3677, 'exponential': 1674, '213': 70, 'moms': 2844, 'coronavirususa': 1096, 'cnnpolitics': 956, '692': 148, 'disembark': 1381, 'para': 3151, 'fb': 1734, 'speech': 4008, 'ninth': 2980, 'hunt': 2208, 'telebriefing': 4249, 'steady': 4077, 'resistance': 3610, 'targeting': 4231, 'humming': 2205, 'subway': 4142, 'outlook': 3110, 'writing': 4774, 'wedding': 4657, 'met': 2781, 'diversity': 1400, 'carnival': 790, 'funds': 1910, 'vaccinate': 4540, 'pacific': 3131, 'responses': 3619, 'culture': 1192, 'cures': 1197, 'costa': 1113, 'milan': 2800, 'diamond': 1341, 'industrial': 2302, 'brexitday': 688, 'myanmar': 2895, 'manchester': 2700, 'distance': 1394, 'annual': 363, 'unions': 4495, 'newcastle': 2952, 'sbs': 3725, 'skyrocket': 3924, 'vulnerable': 4602, 'pulling': 3437, 'ncyt': 2930, 'filled': 1777, 'seconds': 3773, 'preparation': 3342, 'counting': 1127, 'evacuee': 1616, 'monetary': 2847, 'majeure': 2680, 'device': 1333, 'chiefs': 885, 'copper': 1070, 'skysportsnews': 3925, 'appearing': 397, 'correct': 1108, 'brand': 670, 'sciences': 3742, 'africans': 266, 'reacts': 3513, 'factors': 1703, 'makers': 2685, 'mining': 2811, 'organizers': 3086, 'kiss': 2470, 'treatments': 4423, '425': 112, 'argument': 415, 'intentionally': 2342, 'sidelines': 3884, 'attacked': 464, 'çø': 4913, 'diagnostic': 1339, 'novacyt': 3000, 'cybercriminals': 1208, 'violent': 4574, 'slams': 3926, 'medication': 2757, 'june': 2442, 'direction': 1359, 'unique': 4496, 'chinazi': 897, 'pentagon': 3186, 'hopes': 2167, 'lng': 2611, 'nor': 2990, 'äòi': 4866, 'drones': 1457, 'indoors': 2301, 'las': 2512, 'bulletin': 728, 'wave': 4642, 'innovation': 2327, 'ighalo': 2233, 'personally': 3205, 'investing': 2357, 'gaming': 1926, 'impacting': 2259, 'gay': 1934, '324': 93, 'gilead': 1957, 'squad': 4040, 'remdesivir': 3576, 'lift': 2574, 'ukrainian': 4478, 'breakout': 680, 'anthony': 369, 'rea': 3507, 'volunteer': 4598, 'stable': 4046, '10k': 17, '7th': 162, 'walmart': 4612, 'myth': 2899, 'joined': 2426, 'elsewhere': 1529, 'utd': 4537, 'scams': 3728, '249': 77, 'repatriated': 3589, 'contains': 1047, 'insertions': 2331, 'stoking': 4091, 'rescue': 3602, 'shooting': 3859, '259': 81, 'recognition': 3533, 'freezerohedge': 1883, 'mainly': 2677, 'removes': 3584, 'dozen': 1441, 'hindu': 2135, 'r0': 3474, '770': 159, 'fujifilm': 1903, 'bw': 747, '34': 95, 'joint': 2428, 'beings': 568, 'taxi': 4237, 'qantas': 3450, 'mice': 2791, 'cottrell': 1116, 'casino': 803, 'percent': 3192, 'removed': 3583, 'admin': 238, 'coach': 958, 'filter': 1779, 'ski': 3918, 'perspective': 3208, 'kim': 2464, 'jong': 2433, 'malaria': 2689, 'paid': 3137, 'pulls': 3438, 'dates': 1227, 'lesson': 2558, 'censorship': 837, 'drone': 1456, 'defense': 1272, 'lungs': 2659, 'abandoned': 189, 'exploiting': 1671, 'rare': 3497, '20th': 68, 'obama': 3022, 'eighth': 1519, 'chickens': 883, 'expresses': 1681, 'ships': 3852, 'elite': 1526, 'birdflu': 607, 'disappointed': 1365, 'abe': 193, 'combination': 975, 'cpho_canada': 1151, 'afb': 255, 'censoring': 836, '304': 90, 'enemy': 1552, 'devastating': 1326, '380': 104, 'periscope': 3199, 'heartgang': 2100, 'spreadluv': 4033, 'preppers': 3350, 'nomeat_nocoronavirus': 2985, 'sin': 3902, 'pax': 3178, 'dea': 1236, 'worship': 4764, 'saint': 3700, 'rampal': 3491, 'maharaj': 2672, 'coronarivus': 1078, 'shelter': 3844, '115': 20, 'doors': 1432, 'houses': 2188, 'avian': 484, 'finishes': 1791, 'cremated': 1165, 'clusters': 949, 'apps': 406, 'urged': 4520, 'commands': 980, 'qvezftkwkq': 3473, 'firm': 1798, 'mixture': 2829, 'weakness': 4647, 'myths': 2900, 'artificial': 435, 'punished': 3439, '02': 4, 'lea': 2533, 'úàô': 4933, 'barcelona': 517, 'silenced': 3894, 'focused': 1828, 'properly': 3405, 'wine': 4718, 'planes': 3245, 'hair': 2045, 'apparent': 391, 'success': 4143, 'cocktail': 960, 'áóöêøí': 4846, 'mitigate': 2826, 'suppress': 4171, 'delivery': 1289, 'bases': 522, 'relevant': 3570, 'prank': 3321, 'overall': 3116, 'kuo': 2492, 'lowers': 2655, 'shipment': 3848, 'marat': 2712, 'candidate': 776, 'behavior': 564, 'escapes': 1592, 'resume': 3629, '140': 34, '9th': 186, 'software': 3957, 'models': 2837, 'fuels': 1902, '361': 100, '362': 101, 'coronavrius': 1100, 'trillion': 4434, 'reopen': 3586, 'extended': 1684, 'äòwe': 4871, 'assuming': 457, 'chip': 900, '11th': 22, 'globaltimesnews': 1970, 'garlic': 1927, 'prejudice': 3339, 'cap': 779, 'trials': 4428, 'equipment': 1583, 'rescued': 3603, '9orx4j6buu': 185, 'threatened': 4320, 'comedian': 977, 'discharge': 1368, 'goods': 1986, 'clothes': 946, 'eventually': 1623, 'investor': 2359, 'dance': 1217, 'rejected': 3563, 'remedies': 3577, 'mwc2020': 2893, 'clues': 947, 'discriminate': 1374, 'nears': 2935, 'iceberg': 2220, 'produce': 3386, 'defend': 1270, 'rages': 3483, 'susceptible': 4190, 'zhejiang': 4838, 'rebound': 3526, 'linger': 2592, 'pulled': 3436, 'bioweapons': 605, 'topics': 4366, 'arrest': 422, 'shortcomings': 3865, 'boyle': 665, 'grand': 2006, 'prix': 3380, 'slashes': 3927, '64': 143, 'israelis': 2383, 'flawed': 1807, 'brit': 697, 'gordon': 1992, 'åè': 4900, 'themed': 4290, 'curecancer_by_trueworship': 1195, 'ps5': 3427, 'attend': 467, 'pull': 3435, 'valid': 4544, 'travis': 4417, 'casinos': 804, 'conferences': 1018, 'microscope': 2794, '06': 7, 'chloroquine': 901, 'envision': 1570, 'cointelegraph': 965, 'phishing': 3220, 'definition': 1275, 'n8owlcko0x': 2901, 'plants': 3251, 'wanting': 4617, 'tedros': 4248, 'sotu': 3979, 'johnshopkins': 2423, 'nike': 2976, 'defies': 1273, 'session': 3819, 'lg': 2567, 'exports': 1676, 'denied': 1296, 'princess': 3370, '490': 120, 'arirang': 416, 'widely': 4704, 'äòself': 4869, 'yokohama': 4823, 'route': 3676, 'princesscruises': 3371, 'mwc': 2892, '138': 31, 'computers': 1005, 'withdraw': 4731, 'unpaid': 4505, 'jenniferatntd': 2412, 'training': 4397, 'maria': 2716, 'optimism': 3076, 'prayforwuhan': 3325, 'adidas': 237, 'pods': 3275, 'sony': 3974, 'shadow': 3829, 'dock': 1404, 'math': 2735, 'newborn': 2951, 'babies': 497, '118': 21, 'christ': 905, 'iata': 2218, 'electronics': 1524, '12th': 24, 'docking': 1406, '602': 137, '564': 129, '910': 178, 'corononavirus': 1103, 'ambitions': 335, '15th': 39, '018': 3, 'buyers': 745, 'guests': 2030, 'youngest': 4827, '560': 128, 'square': 4041, 'crosses': 1173, 'korle': 2489, '589': 131, 'emissions': 1540, 'bluksptnnq': 636, 'pastor': 3169, 'brighton': 692, 'sounded': 3981, 'hero': 2118, 'wenliang': 4670, 'wind': 4715, 'alleged': 314, 'authoritarian': 478, 'disrupts': 1393, 'outer': 3107, 'blower': 632, 'fifty': 1768, 'finance': 1782, 'antonio': 374, '638': 142, '636': 141, 'rage': 3482, 'sdfcrodiom': 3760, 'ignored': 2236, 'approval': 403, 'realjameswoods': 3522, 'prisons': 3378, 'pangolins': 3146, 'sixty': 3916, 'rolls': 3669, 'pangolin': 3145, 'fewer': 1763, '86': 172, 'diamondprincess': 1342, 'powered': 3315, 'coronavius': 1099, 'wartime': 4631, 'persist': 3202, 'reopening': 3587, '143': 35, 'fecal': 1745, '722': 153, '805': 165, 'nvidia': 3014, 'sanders': 3710, 'torture': 4370, '724': 155, '723': 154, '355': 98, 'chalet': 852, 'restart': 3622, 'valued': 4547, 'odion': 3030, 'coronavirustruth': 1093, 'aerosol': 253, 'spreader': 4030, 'forcibly': 1847, 'nazis': 2920, '811': 167, 'revenues': 3642, 'ncp': 2929, 'limbo': 2583, 'prophecy': 3407, 'stagger': 4049, 'globalists': 1968, 'oly': 3050, 'qiushi': 3452, 'stephen': 4082, 'dele': 1282, 'alli': 316, 'apologises': 389, 'empties': 1545, '85': 171, '1981': 50, '908': 177, 'hsbc': 2194, 'visitor': 4590, 'inflation': 2315, 'creepy': 1164, '135': 29, 'nissan': 2981, 'gsma': 2023, 'recovering': 3543, 'forecasts': 1850, 'coronavirusfacts': 1088, 'loans': 2614, 'crunch': 1184, '108': 16, 'sacked': 3694, 'mistakenly': 2824, 'pipes': 3233, 'eases': 1488, 'intel': 2339, 'criteria': 1169, 'unchecked': 4482, 'coronavirusjapan': 1091, '13th': 32, 'covid': 1143, 'covid19': 1144, 'galaxy': 1923, 'hotspots': 2184, 'covid2019': 1146, 'dbs': 1233, 'westerdam': 4674, '105': 14, 'bakker': 507, '242': 76, 'daegu': 1212, '14th': 36, 'sarscov2': 3715, 'hotbed': 2180, 'militarization': 2803, 'darkness': 1222, '254': 80, 'rural': 3689, 'covd19': 1137, 'stimulus': 4088, 'strongly': 4122, 'infodemic': 2319, 'towns': 4384, 'condemn': 1013, 'vanished': 4549, 'runway': 3688, 'koontz': 2485, 'imf': 2249, 'coronavtj': 1101, 'religious': 3573, 'modelers': 2834, '92': 179, 'covid_19': 1147, 'éº19': 4917, '71': 152, 'marathon': 2713, 'liu': 2602, 'zhiming': 4839, 'exrxxomie1': 1682, 'jaguar': 2401, 'preetbharara': 3336, 'magu': 2671, 'omaha': 3053, 'covid19airborne': 1145, 'efcc': 1510, '79': 161, 'expels': 1658, 'qom': 3453, 'g20': 1919, 'lebanon': 2549, 'narrowing': 2910, 'lombardy': 2629, 'untraceable': 4509, 'giorgio': 1958, 'armani': 418, 'venice': 4556}\n"
          ]
        }
      ]
    },
    {
      "cell_type": "code",
      "source": [
        "svm_model = SVC(probability = True, kernel = 'linear')\n",
        "svm_model.fit(X_train_tfidf, y_train )"
      ],
      "metadata": {
        "colab": {
          "base_uri": "https://localhost:8080/"
        },
        "id": "Xr9a-_QDaLxY",
        "outputId": "ab01e20e-73b6-4bd7-a9ab-6c578f61cdb0"
      },
      "execution_count": 26,
      "outputs": [
        {
          "output_type": "execute_result",
          "data": {
            "text/plain": [
              "SVC(kernel='linear', probability=True)"
            ]
          },
          "metadata": {},
          "execution_count": 26
        }
      ]
    },
    {
      "cell_type": "code",
      "source": [
        "# Predictions of test data\n",
        "svm_predictions = svm_model.predict(X_test_tfidf)\n",
        "test_prediction = pd.DataFrame()\n",
        "test_prediction['tweet'] = X_test\n",
        "test_prediction['label'] = svm_predictions\n",
        "test_prediction"
      ],
      "metadata": {
        "colab": {
          "base_uri": "https://localhost:8080/",
          "height": 424
        },
        "id": "bqU4if_OaOLI",
        "outputId": "f243c8c5-fa53-4c52-b879-13923da016ca"
      },
      "execution_count": 27,
      "outputs": [
        {
          "output_type": "execute_result",
          "data": {
            "text/plain": [
              "                                                   tweet label\n",
              "8225   duterte like welcome chinese especially corona...   neu\n",
              "10794  information stating infected novel coronavirus...   neu\n",
              "9163                     coronavirus update pandemic via   neu\n",
              "26591  3000 healthcare personnel china infected coron...   neu\n",
              "6631   brent recoups china virus angst fed speak play...   neu\n",
              "...                                                  ...   ...\n",
              "21914  united panic bought striker telling come train...   neu\n",
              "17453                                                      neu\n",
              "20344  nzd usd technical bias bearish dow jones brush...   neu\n",
              "1878   sounds like something catch drinking beers spr...   neu\n",
              "6465   update beijing reported 11 new cases pneumonia...   neu\n",
              "\n",
              "[9000 rows x 2 columns]"
            ],
            "text/html": [
              "\n",
              "  <div id=\"df-277afb1d-87a3-41d1-abf3-0b03537445fb\">\n",
              "    <div class=\"colab-df-container\">\n",
              "      <div>\n",
              "<style scoped>\n",
              "    .dataframe tbody tr th:only-of-type {\n",
              "        vertical-align: middle;\n",
              "    }\n",
              "\n",
              "    .dataframe tbody tr th {\n",
              "        vertical-align: top;\n",
              "    }\n",
              "\n",
              "    .dataframe thead th {\n",
              "        text-align: right;\n",
              "    }\n",
              "</style>\n",
              "<table border=\"1\" class=\"dataframe\">\n",
              "  <thead>\n",
              "    <tr style=\"text-align: right;\">\n",
              "      <th></th>\n",
              "      <th>tweet</th>\n",
              "      <th>label</th>\n",
              "    </tr>\n",
              "  </thead>\n",
              "  <tbody>\n",
              "    <tr>\n",
              "      <th>8225</th>\n",
              "      <td>duterte like welcome chinese especially corona...</td>\n",
              "      <td>neu</td>\n",
              "    </tr>\n",
              "    <tr>\n",
              "      <th>10794</th>\n",
              "      <td>information stating infected novel coronavirus...</td>\n",
              "      <td>neu</td>\n",
              "    </tr>\n",
              "    <tr>\n",
              "      <th>9163</th>\n",
              "      <td>coronavirus update pandemic via</td>\n",
              "      <td>neu</td>\n",
              "    </tr>\n",
              "    <tr>\n",
              "      <th>26591</th>\n",
              "      <td>3000 healthcare personnel china infected coron...</td>\n",
              "      <td>neu</td>\n",
              "    </tr>\n",
              "    <tr>\n",
              "      <th>6631</th>\n",
              "      <td>brent recoups china virus angst fed speak play...</td>\n",
              "      <td>neu</td>\n",
              "    </tr>\n",
              "    <tr>\n",
              "      <th>...</th>\n",
              "      <td>...</td>\n",
              "      <td>...</td>\n",
              "    </tr>\n",
              "    <tr>\n",
              "      <th>21914</th>\n",
              "      <td>united panic bought striker telling come train...</td>\n",
              "      <td>neu</td>\n",
              "    </tr>\n",
              "    <tr>\n",
              "      <th>17453</th>\n",
              "      <td></td>\n",
              "      <td>neu</td>\n",
              "    </tr>\n",
              "    <tr>\n",
              "      <th>20344</th>\n",
              "      <td>nzd usd technical bias bearish dow jones brush...</td>\n",
              "      <td>neu</td>\n",
              "    </tr>\n",
              "    <tr>\n",
              "      <th>1878</th>\n",
              "      <td>sounds like something catch drinking beers spr...</td>\n",
              "      <td>neu</td>\n",
              "    </tr>\n",
              "    <tr>\n",
              "      <th>6465</th>\n",
              "      <td>update beijing reported 11 new cases pneumonia...</td>\n",
              "      <td>neu</td>\n",
              "    </tr>\n",
              "  </tbody>\n",
              "</table>\n",
              "<p>9000 rows × 2 columns</p>\n",
              "</div>\n",
              "      <button class=\"colab-df-convert\" onclick=\"convertToInteractive('df-277afb1d-87a3-41d1-abf3-0b03537445fb')\"\n",
              "              title=\"Convert this dataframe to an interactive table.\"\n",
              "              style=\"display:none;\">\n",
              "        \n",
              "  <svg xmlns=\"http://www.w3.org/2000/svg\" height=\"24px\"viewBox=\"0 0 24 24\"\n",
              "       width=\"24px\">\n",
              "    <path d=\"M0 0h24v24H0V0z\" fill=\"none\"/>\n",
              "    <path d=\"M18.56 5.44l.94 2.06.94-2.06 2.06-.94-2.06-.94-.94-2.06-.94 2.06-2.06.94zm-11 1L8.5 8.5l.94-2.06 2.06-.94-2.06-.94L8.5 2.5l-.94 2.06-2.06.94zm10 10l.94 2.06.94-2.06 2.06-.94-2.06-.94-.94-2.06-.94 2.06-2.06.94z\"/><path d=\"M17.41 7.96l-1.37-1.37c-.4-.4-.92-.59-1.43-.59-.52 0-1.04.2-1.43.59L10.3 9.45l-7.72 7.72c-.78.78-.78 2.05 0 2.83L4 21.41c.39.39.9.59 1.41.59.51 0 1.02-.2 1.41-.59l7.78-7.78 2.81-2.81c.8-.78.8-2.07 0-2.86zM5.41 20L4 18.59l7.72-7.72 1.47 1.35L5.41 20z\"/>\n",
              "  </svg>\n",
              "      </button>\n",
              "      \n",
              "  <style>\n",
              "    .colab-df-container {\n",
              "      display:flex;\n",
              "      flex-wrap:wrap;\n",
              "      gap: 12px;\n",
              "    }\n",
              "\n",
              "    .colab-df-convert {\n",
              "      background-color: #E8F0FE;\n",
              "      border: none;\n",
              "      border-radius: 50%;\n",
              "      cursor: pointer;\n",
              "      display: none;\n",
              "      fill: #1967D2;\n",
              "      height: 32px;\n",
              "      padding: 0 0 0 0;\n",
              "      width: 32px;\n",
              "    }\n",
              "\n",
              "    .colab-df-convert:hover {\n",
              "      background-color: #E2EBFA;\n",
              "      box-shadow: 0px 1px 2px rgba(60, 64, 67, 0.3), 0px 1px 3px 1px rgba(60, 64, 67, 0.15);\n",
              "      fill: #174EA6;\n",
              "    }\n",
              "\n",
              "    [theme=dark] .colab-df-convert {\n",
              "      background-color: #3B4455;\n",
              "      fill: #D2E3FC;\n",
              "    }\n",
              "\n",
              "    [theme=dark] .colab-df-convert:hover {\n",
              "      background-color: #434B5C;\n",
              "      box-shadow: 0px 1px 3px 1px rgba(0, 0, 0, 0.15);\n",
              "      filter: drop-shadow(0px 1px 2px rgba(0, 0, 0, 0.3));\n",
              "      fill: #FFFFFF;\n",
              "    }\n",
              "  </style>\n",
              "\n",
              "      <script>\n",
              "        const buttonEl =\n",
              "          document.querySelector('#df-277afb1d-87a3-41d1-abf3-0b03537445fb button.colab-df-convert');\n",
              "        buttonEl.style.display =\n",
              "          google.colab.kernel.accessAllowed ? 'block' : 'none';\n",
              "\n",
              "        async function convertToInteractive(key) {\n",
              "          const element = document.querySelector('#df-277afb1d-87a3-41d1-abf3-0b03537445fb');\n",
              "          const dataTable =\n",
              "            await google.colab.kernel.invokeFunction('convertToInteractive',\n",
              "                                                     [key], {});\n",
              "          if (!dataTable) return;\n",
              "\n",
              "          const docLinkHtml = 'Like what you see? Visit the ' +\n",
              "            '<a target=\"_blank\" href=https://colab.research.google.com/notebooks/data_table.ipynb>data table notebook</a>'\n",
              "            + ' to learn more about interactive tables.';\n",
              "          element.innerHTML = '';\n",
              "          dataTable['output_type'] = 'display_data';\n",
              "          await google.colab.output.renderOutput(dataTable, element);\n",
              "          const docLink = document.createElement('div');\n",
              "          docLink.innerHTML = docLinkHtml;\n",
              "          element.appendChild(docLink);\n",
              "        }\n",
              "      </script>\n",
              "    </div>\n",
              "  </div>\n",
              "  "
            ]
          },
          "metadata": {},
          "execution_count": 27
        }
      ]
    },
    {
      "cell_type": "code",
      "source": [
        "test_prediction['label'].value_counts()"
      ],
      "metadata": {
        "colab": {
          "base_uri": "https://localhost:8080/"
        },
        "id": "ZhQRPDGiaQhM",
        "outputId": "3a445b11-81ed-45db-dd85-109467920802"
      },
      "execution_count": 28,
      "outputs": [
        {
          "output_type": "execute_result",
          "data": {
            "text/plain": [
              "neu    7359\n",
              "neg    1322\n",
              "pos     319\n",
              "Name: label, dtype: int64"
            ]
          },
          "metadata": {},
          "execution_count": 28
        }
      ]
    },
    {
      "cell_type": "code",
      "source": [
        "ConfusionMatrixDisplay.from_predictions(y_test, svm_predictions)"
      ],
      "metadata": {
        "colab": {
          "base_uri": "https://localhost:8080/",
          "height": 296
        },
        "id": "PzifyCp5aUMo",
        "outputId": "e3ba77d8-524d-4727-a215-ffbb10aed2d7"
      },
      "execution_count": 29,
      "outputs": [
        {
          "output_type": "execute_result",
          "data": {
            "text/plain": [
              "<sklearn.metrics._plot.confusion_matrix.ConfusionMatrixDisplay at 0x7f6c2c9ff190>"
            ]
          },
          "metadata": {},
          "execution_count": 29
        },
        {
          "output_type": "display_data",
          "data": {
            "text/plain": [
              "<Figure size 432x288 with 2 Axes>"
            ],
            "image/png": "[encoded data removed]"
          },
          "metadata": {
            "needs_background": "light"
          }
        }
      ]
    },
    {
      "cell_type": "code",
      "source": [
        "svm_accuracy = accuracy_score(svm_predictions, y_test)*100\n",
        "svm_accuracy"
      ],
      "metadata": {
        "colab": {
          "base_uri": "https://localhost:8080/"
        },
        "id": "hGBaDt8Iahog",
        "outputId": "dfc2f70c-bbe4-4e51-acb9-04e566ecf00a"
      },
      "execution_count": 30,
      "outputs": [
        {
          "output_type": "execute_result",
          "data": {
            "text/plain": [
              "88.91111111111111"
            ]
          },
          "metadata": {},
          "execution_count": 30
        }
      ]
    },
    {
      "cell_type": "code",
      "source": [
        "print(\"Classification Report:\")\n",
        "print(classification_report(y_test, svm_predictions))"
      ],
      "metadata": {
        "colab": {
          "base_uri": "https://localhost:8080/"
        },
        "id": "e1aMl53farVO",
        "outputId": "c092505f-b119-4694-9295-3ce691c9e6af"
      },
      "execution_count": 31,
      "outputs": [
        {
          "output_type": "stream",
          "name": "stdout",
          "text": [
            "Classification Report:\n",
            "              precision    recall  f1-score   support\n",
            "\n",
            "         neg       0.87      0.72      0.79      1591\n",
            "         neu       0.90      0.97      0.93      6828\n",
            "         pos       0.78      0.43      0.56       581\n",
            "\n",
            "    accuracy                           0.89      9000\n",
            "   macro avg       0.85      0.71      0.76      9000\n",
            "weighted avg       0.89      0.89      0.88      9000\n",
            "\n"
          ]
        }
      ]
    }
  ]
}